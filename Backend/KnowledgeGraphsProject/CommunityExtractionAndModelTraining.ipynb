{
  "metadata": {
    "kernelspec": {
      "name": "python3",
      "display_name": "Python 3",
      "language": "python"
    },
    "language_info": {
      "codemirror_mode": {
        "name": "ipython",
        "version": 3
      },
      "file_extension": ".py",
      "mimetype": "text/x-python",
      "name": "python",
      "nbconvert_exporter": "python",
      "pygments_lexer": "ipython3",
      "version": "3.10.12"
    },
    "accelerator": "GPU",
    "colab": {
      "gpuType": "T4",
      "provenance": []
    },
    "kaggle": {
      "accelerator": "gpu",
      "dataSources": [
        {
          "sourceId": 10644902,
          "sourceType": "datasetVersion",
          "datasetId": 6591238
        },
        {
          "sourceId": 10716328,
          "sourceType": "datasetVersion",
          "datasetId": 6642446
        },
        {
          "sourceId": 10776930,
          "sourceType": "datasetVersion",
          "datasetId": 6686613
        },
        {
          "sourceId": 10777534,
          "sourceType": "datasetVersion",
          "datasetId": 6687040
        },
        {
          "sourceId": 10777855,
          "sourceType": "datasetVersion",
          "datasetId": 6687263
        },
        {
          "sourceId": 10783007,
          "sourceType": "datasetVersion",
          "datasetId": 6691179
        }
      ],
      "dockerImageVersionId": 30887,
      "isInternetEnabled": true,
      "language": "python",
      "sourceType": "notebook",
      "isGpuEnabled": true
    }
  },
  "nbformat_minor": 0,
  "nbformat": 4,
  "cells": [
    {
      "cell_type": "code",
      "source": [
        "!pip install torch torchvision torchaudio\n",
        "!pip install torch-geometric\n",
        "!pip install infomap\n",
        "!pip install ace_tools\n",
        "!pip install torch-scatter torch-sparse torch-cluster torch-spline-conv torch-geometric -f https://data.pyg.org/whl/torch-2.0.0+cu118.html\n"
      ],
      "metadata": {
        "id": "Isep7HkS1uMq",
        "colab": {
          "base_uri": "https://localhost:8080/"
        },
        "outputId": "be733bd0-fe26-45a2-8d79-daf92056c7fc",
        "trusted": true,
        "execution": {
          "iopub.status.busy": "2025-02-18T11:42:17.890301Z",
          "iopub.execute_input": "2025-02-18T11:42:17.890609Z",
          "iopub.status.idle": "2025-02-18T11:42:34.351243Z",
          "shell.execute_reply.started": "2025-02-18T11:42:17.890585Z",
          "shell.execute_reply": "2025-02-18T11:42:34.350260Z"
        }
      },
      "outputs": [
        {
          "name": "stdout",
          "text": "Requirement already satisfied: torch in /usr/local/lib/python3.10/dist-packages (2.5.1+cu121)\nRequirement already satisfied: torchvision in /usr/local/lib/python3.10/dist-packages (0.20.1+cu121)\nRequirement already satisfied: torchaudio in /usr/local/lib/python3.10/dist-packages (2.5.1+cu121)\nRequirement already satisfied: filelock in /usr/local/lib/python3.10/dist-packages (from torch) (3.17.0)\nRequirement already satisfied: typing-extensions>=4.8.0 in /usr/local/lib/python3.10/dist-packages (from torch) (4.12.2)\nRequirement already satisfied: networkx in /usr/local/lib/python3.10/dist-packages (from torch) (3.4.2)\nRequirement already satisfied: jinja2 in /usr/local/lib/python3.10/dist-packages (from torch) (3.1.4)\nRequirement already satisfied: fsspec in /usr/local/lib/python3.10/dist-packages (from torch) (2024.9.0)\nRequirement already satisfied: sympy==1.13.1 in /usr/local/lib/python3.10/dist-packages (from torch) (1.13.1)\nRequirement already satisfied: mpmath<1.4,>=1.1.0 in /usr/local/lib/python3.10/dist-packages (from sympy==1.13.1->torch) (1.3.0)\nRequirement already satisfied: numpy in /usr/local/lib/python3.10/dist-packages (from torchvision) (1.26.4)\nRequirement already satisfied: pillow!=8.3.*,>=5.3.0 in /usr/local/lib/python3.10/dist-packages (from torchvision) (11.0.0)\nRequirement already satisfied: MarkupSafe>=2.0 in /usr/local/lib/python3.10/dist-packages (from jinja2->torch) (3.0.2)\nRequirement already satisfied: mkl_fft in /usr/local/lib/python3.10/dist-packages (from numpy->torchvision) (1.3.8)\nRequirement already satisfied: mkl_random in /usr/local/lib/python3.10/dist-packages (from numpy->torchvision) (1.2.4)\nRequirement already satisfied: mkl_umath in /usr/local/lib/python3.10/dist-packages (from numpy->torchvision) (0.1.1)\nRequirement already satisfied: mkl in /usr/local/lib/python3.10/dist-packages (from numpy->torchvision) (2025.0.1)\nRequirement already satisfied: tbb4py in /usr/local/lib/python3.10/dist-packages (from numpy->torchvision) (2022.0.0)\nRequirement already satisfied: mkl-service in /usr/local/lib/python3.10/dist-packages (from numpy->torchvision) (2.4.1)\nRequirement already satisfied: intel-openmp>=2024 in /usr/local/lib/python3.10/dist-packages (from mkl->numpy->torchvision) (2024.2.0)\nRequirement already satisfied: tbb==2022.* in /usr/local/lib/python3.10/dist-packages (from mkl->numpy->torchvision) (2022.0.0)\nRequirement already satisfied: tcmlib==1.* in /usr/local/lib/python3.10/dist-packages (from tbb==2022.*->mkl->numpy->torchvision) (1.2.0)\nRequirement already satisfied: intel-cmplr-lib-rt in /usr/local/lib/python3.10/dist-packages (from mkl_umath->numpy->torchvision) (2024.2.0)\nRequirement already satisfied: intel-cmplr-lib-ur==2024.2.0 in /usr/local/lib/python3.10/dist-packages (from intel-openmp>=2024->mkl->numpy->torchvision) (2024.2.0)\nRequirement already satisfied: torch-geometric in /usr/local/lib/python3.10/dist-packages (2.6.1)\nRequirement already satisfied: aiohttp in /usr/local/lib/python3.10/dist-packages (from torch-geometric) (3.11.11)\nRequirement already satisfied: fsspec in /usr/local/lib/python3.10/dist-packages (from torch-geometric) (2024.9.0)\nRequirement already satisfied: jinja2 in /usr/local/lib/python3.10/dist-packages (from torch-geometric) (3.1.4)\nRequirement already satisfied: numpy in /usr/local/lib/python3.10/dist-packages (from torch-geometric) (1.26.4)\nRequirement already satisfied: psutil>=5.8.0 in /usr/local/lib/python3.10/dist-packages (from torch-geometric) (5.9.5)\nRequirement already satisfied: pyparsing in /usr/local/lib/python3.10/dist-packages (from torch-geometric) (3.2.0)\nRequirement already satisfied: requests in /usr/local/lib/python3.10/dist-packages (from torch-geometric) (2.32.3)\nRequirement already satisfied: tqdm in /usr/local/lib/python3.10/dist-packages (from torch-geometric) (4.67.1)\nRequirement already satisfied: aiohappyeyeballs>=2.3.0 in /usr/local/lib/python3.10/dist-packages (from aiohttp->torch-geometric) (2.4.4)\nRequirement already satisfied: aiosignal>=1.1.2 in /usr/local/lib/python3.10/dist-packages (from aiohttp->torch-geometric) (1.3.2)\nRequirement already satisfied: async-timeout<6.0,>=4.0 in /usr/local/lib/python3.10/dist-packages (from aiohttp->torch-geometric) (5.0.1)\nRequirement already satisfied: attrs>=17.3.0 in /usr/local/lib/python3.10/dist-packages (from aiohttp->torch-geometric) (25.1.0)\nRequirement already satisfied: frozenlist>=1.1.1 in /usr/local/lib/python3.10/dist-packages (from aiohttp->torch-geometric) (1.5.0)\nRequirement already satisfied: multidict<7.0,>=4.5 in /usr/local/lib/python3.10/dist-packages (from aiohttp->torch-geometric) (6.1.0)\nRequirement already satisfied: propcache>=0.2.0 in /usr/local/lib/python3.10/dist-packages (from aiohttp->torch-geometric) (0.2.1)\nRequirement already satisfied: yarl<2.0,>=1.17.0 in /usr/local/lib/python3.10/dist-packages (from aiohttp->torch-geometric) (1.18.3)\nRequirement already satisfied: MarkupSafe>=2.0 in /usr/local/lib/python3.10/dist-packages (from jinja2->torch-geometric) (3.0.2)\nRequirement already satisfied: mkl_fft in /usr/local/lib/python3.10/dist-packages (from numpy->torch-geometric) (1.3.8)\nRequirement already satisfied: mkl_random in /usr/local/lib/python3.10/dist-packages (from numpy->torch-geometric) (1.2.4)\nRequirement already satisfied: mkl_umath in /usr/local/lib/python3.10/dist-packages (from numpy->torch-geometric) (0.1.1)\nRequirement already satisfied: mkl in /usr/local/lib/python3.10/dist-packages (from numpy->torch-geometric) (2025.0.1)\nRequirement already satisfied: tbb4py in /usr/local/lib/python3.10/dist-packages (from numpy->torch-geometric) (2022.0.0)\nRequirement already satisfied: mkl-service in /usr/local/lib/python3.10/dist-packages (from numpy->torch-geometric) (2.4.1)\nRequirement already satisfied: charset-normalizer<4,>=2 in /usr/local/lib/python3.10/dist-packages (from requests->torch-geometric) (3.4.1)\nRequirement already satisfied: idna<4,>=2.5 in /usr/local/lib/python3.10/dist-packages (from requests->torch-geometric) (3.10)\nRequirement already satisfied: urllib3<3,>=1.21.1 in /usr/local/lib/python3.10/dist-packages (from requests->torch-geometric) (2.3.0)\nRequirement already satisfied: certifi>=2017.4.17 in /usr/local/lib/python3.10/dist-packages (from requests->torch-geometric) (2025.1.31)\nRequirement already satisfied: typing-extensions>=4.1.0 in /usr/local/lib/python3.10/dist-packages (from multidict<7.0,>=4.5->aiohttp->torch-geometric) (4.12.2)\nRequirement already satisfied: intel-openmp>=2024 in /usr/local/lib/python3.10/dist-packages (from mkl->numpy->torch-geometric) (2024.2.0)\nRequirement already satisfied: tbb==2022.* in /usr/local/lib/python3.10/dist-packages (from mkl->numpy->torch-geometric) (2022.0.0)\nRequirement already satisfied: tcmlib==1.* in /usr/local/lib/python3.10/dist-packages (from tbb==2022.*->mkl->numpy->torch-geometric) (1.2.0)\nRequirement already satisfied: intel-cmplr-lib-rt in /usr/local/lib/python3.10/dist-packages (from mkl_umath->numpy->torch-geometric) (2024.2.0)\nRequirement already satisfied: intel-cmplr-lib-ur==2024.2.0 in /usr/local/lib/python3.10/dist-packages (from intel-openmp>=2024->mkl->numpy->torch-geometric) (2024.2.0)\nRequirement already satisfied: infomap in /usr/local/lib/python3.10/dist-packages (2.8.0)\nRequirement already satisfied: ace_tools in /usr/local/lib/python3.10/dist-packages (0.0)\nLooking in links: https://data.pyg.org/whl/torch-2.0.0+cu118.html\nRequirement already satisfied: torch-scatter in /usr/local/lib/python3.10/dist-packages (2.1.2+pt20cu118)\nRequirement already satisfied: torch-sparse in /usr/local/lib/python3.10/dist-packages (0.6.18+pt20cu118)\nRequirement already satisfied: torch-cluster in /usr/local/lib/python3.10/dist-packages (1.6.3+pt20cu118)\nRequirement already satisfied: torch-spline-conv in /usr/local/lib/python3.10/dist-packages (1.2.2+pt20cu118)\nRequirement already satisfied: torch-geometric in /usr/local/lib/python3.10/dist-packages (2.6.1)\nRequirement already satisfied: scipy in /usr/local/lib/python3.10/dist-packages (from torch-sparse) (1.13.1)\nRequirement already satisfied: aiohttp in /usr/local/lib/python3.10/dist-packages (from torch-geometric) (3.11.11)\nRequirement already satisfied: fsspec in /usr/local/lib/python3.10/dist-packages (from torch-geometric) (2024.9.0)\nRequirement already satisfied: jinja2 in /usr/local/lib/python3.10/dist-packages (from torch-geometric) (3.1.4)\nRequirement already satisfied: numpy in /usr/local/lib/python3.10/dist-packages (from torch-geometric) (1.26.4)\nRequirement already satisfied: psutil>=5.8.0 in /usr/local/lib/python3.10/dist-packages (from torch-geometric) (5.9.5)\nRequirement already satisfied: pyparsing in /usr/local/lib/python3.10/dist-packages (from torch-geometric) (3.2.0)\nRequirement already satisfied: requests in /usr/local/lib/python3.10/dist-packages (from torch-geometric) (2.32.3)\nRequirement already satisfied: tqdm in /usr/local/lib/python3.10/dist-packages (from torch-geometric) (4.67.1)\nRequirement already satisfied: aiohappyeyeballs>=2.3.0 in /usr/local/lib/python3.10/dist-packages (from aiohttp->torch-geometric) (2.4.4)\nRequirement already satisfied: aiosignal>=1.1.2 in /usr/local/lib/python3.10/dist-packages (from aiohttp->torch-geometric) (1.3.2)\nRequirement already satisfied: async-timeout<6.0,>=4.0 in /usr/local/lib/python3.10/dist-packages (from aiohttp->torch-geometric) (5.0.1)\nRequirement already satisfied: attrs>=17.3.0 in /usr/local/lib/python3.10/dist-packages (from aiohttp->torch-geometric) (25.1.0)\nRequirement already satisfied: frozenlist>=1.1.1 in /usr/local/lib/python3.10/dist-packages (from aiohttp->torch-geometric) (1.5.0)\nRequirement already satisfied: multidict<7.0,>=4.5 in /usr/local/lib/python3.10/dist-packages (from aiohttp->torch-geometric) (6.1.0)\nRequirement already satisfied: propcache>=0.2.0 in /usr/local/lib/python3.10/dist-packages (from aiohttp->torch-geometric) (0.2.1)\nRequirement already satisfied: yarl<2.0,>=1.17.0 in /usr/local/lib/python3.10/dist-packages (from aiohttp->torch-geometric) (1.18.3)\nRequirement already satisfied: MarkupSafe>=2.0 in /usr/local/lib/python3.10/dist-packages (from jinja2->torch-geometric) (3.0.2)\nRequirement already satisfied: mkl_fft in /usr/local/lib/python3.10/dist-packages (from numpy->torch-geometric) (1.3.8)\nRequirement already satisfied: mkl_random in /usr/local/lib/python3.10/dist-packages (from numpy->torch-geometric) (1.2.4)\nRequirement already satisfied: mkl_umath in /usr/local/lib/python3.10/dist-packages (from numpy->torch-geometric) (0.1.1)\nRequirement already satisfied: mkl in /usr/local/lib/python3.10/dist-packages (from numpy->torch-geometric) (2025.0.1)\nRequirement already satisfied: tbb4py in /usr/local/lib/python3.10/dist-packages (from numpy->torch-geometric) (2022.0.0)\nRequirement already satisfied: mkl-service in /usr/local/lib/python3.10/dist-packages (from numpy->torch-geometric) (2.4.1)\nRequirement already satisfied: charset-normalizer<4,>=2 in /usr/local/lib/python3.10/dist-packages (from requests->torch-geometric) (3.4.1)\nRequirement already satisfied: idna<4,>=2.5 in /usr/local/lib/python3.10/dist-packages (from requests->torch-geometric) (3.10)\nRequirement already satisfied: urllib3<3,>=1.21.1 in /usr/local/lib/python3.10/dist-packages (from requests->torch-geometric) (2.3.0)\nRequirement already satisfied: certifi>=2017.4.17 in /usr/local/lib/python3.10/dist-packages (from requests->torch-geometric) (2025.1.31)\nRequirement already satisfied: typing-extensions>=4.1.0 in /usr/local/lib/python3.10/dist-packages (from multidict<7.0,>=4.5->aiohttp->torch-geometric) (4.12.2)\nRequirement already satisfied: intel-openmp>=2024 in /usr/local/lib/python3.10/dist-packages (from mkl->numpy->torch-geometric) (2024.2.0)\nRequirement already satisfied: tbb==2022.* in /usr/local/lib/python3.10/dist-packages (from mkl->numpy->torch-geometric) (2022.0.0)\nRequirement already satisfied: tcmlib==1.* in /usr/local/lib/python3.10/dist-packages (from tbb==2022.*->mkl->numpy->torch-geometric) (1.2.0)\nRequirement already satisfied: intel-cmplr-lib-rt in /usr/local/lib/python3.10/dist-packages (from mkl_umath->numpy->torch-geometric) (2024.2.0)\nRequirement already satisfied: intel-cmplr-lib-ur==2024.2.0 in /usr/local/lib/python3.10/dist-packages (from intel-openmp>=2024->mkl->numpy->torch-geometric) (2024.2.0)\n",
          "output_type": "stream"
        }
      ],
      "execution_count": null
    },
    {
      "cell_type": "code",
      "source": [
        "import networkx as nx\n",
        "from infomap import Infomap\n",
        "import community as community_louvain\n",
        "import matplotlib.pyplot as plt\n",
        "from collections import defaultdict\n",
        "\n",
        "from IPython.display import display\n",
        "\n",
        "import json\n",
        "import pandas as pd\n",
        "import torch\n",
        "from torch_geometric.utils import negative_sampling\n",
        "from itertools import combinations\n",
        "\n",
        "import torch.nn.functional as F\n",
        "import numpy as np\n",
        "from sklearn.metrics import roc_auc_score, average_precision_score\n",
        "import os\n",
        "import torch\n",
        "import networkx as nx\n",
        "from torch_geometric.utils import from_networkx, add_self_loops\n",
        "from torch_geometric.data import Data\n",
        "from collections import defaultdict\n",
        "import random\n",
        "import networkx as nx\n",
        "import torch\n",
        "from torch_geometric.utils import negative_sampling"
      ],
      "metadata": {
        "trusted": true,
        "execution": {
          "iopub.status.busy": "2025-02-18T11:42:34.352297Z",
          "iopub.execute_input": "2025-02-18T11:42:34.352577Z",
          "iopub.status.idle": "2025-02-18T11:42:38.601813Z",
          "shell.execute_reply.started": "2025-02-18T11:42:34.352555Z",
          "shell.execute_reply": "2025-02-18T11:42:38.601176Z"
        },
        "id": "-8ls3nIUhm6r",
        "outputId": "c6a03d20-2272-4bb2-c07f-3ea425434d10"
      },
      "outputs": [
        {
          "name": "stderr",
          "text": "/usr/local/lib/python3.10/dist-packages/torch_geometric/typing.py:86: UserWarning: An issue occurred while importing 'torch-scatter'. Disabling its usage. Stacktrace: /usr/local/lib/python3.10/dist-packages/torch_scatter/_version_cuda.so: undefined symbol: _ZN3c1017RegisterOperatorsD1Ev\n  warnings.warn(f\"An issue occurred while importing 'torch-scatter'. \"\n/usr/local/lib/python3.10/dist-packages/torch_geometric/typing.py:97: UserWarning: An issue occurred while importing 'torch-cluster'. Disabling its usage. Stacktrace: /usr/local/lib/python3.10/dist-packages/torch_cluster/_version_cuda.so: undefined symbol: _ZN3c1017RegisterOperatorsD1Ev\n  warnings.warn(f\"An issue occurred while importing 'torch-cluster'. \"\n/usr/local/lib/python3.10/dist-packages/torch_geometric/typing.py:113: UserWarning: An issue occurred while importing 'torch-spline-conv'. Disabling its usage. Stacktrace: /usr/local/lib/python3.10/dist-packages/torch_spline_conv/_version_cuda.so: undefined symbol: _ZN3c1017RegisterOperatorsD1Ev\n  warnings.warn(\n/usr/local/lib/python3.10/dist-packages/torch_geometric/typing.py:124: UserWarning: An issue occurred while importing 'torch-sparse'. Disabling its usage. Stacktrace: /usr/local/lib/python3.10/dist-packages/torch_sparse/_version_cuda.so: undefined symbol: _ZN3c1017RegisterOperatorsD1Ev\n  warnings.warn(f\"An issue occurred while importing 'torch-sparse'. \"\n",
          "output_type": "stream"
        }
      ],
      "execution_count": null
    },
    {
      "cell_type": "markdown",
      "source": [
        "## **Import grafo ottenuto dal primo modulo**"
      ],
      "metadata": {
        "id": "JFw4qM4nhm6t"
      }
    },
    {
      "cell_type": "code",
      "source": [
        "import json\n",
        "file_path = '/kaggle/input/graph_data.json'\n",
        "with open(file_path, \"r\") as f:\n",
        "    data = json.load(f)"
      ],
      "metadata": {
        "trusted": true,
        "execution": {
          "iopub.status.busy": "2025-02-18T11:42:38.603618Z",
          "iopub.execute_input": "2025-02-18T11:42:38.604216Z",
          "iopub.status.idle": "2025-02-18T11:42:38.887425Z",
          "shell.execute_reply.started": "2025-02-18T11:42:38.604188Z",
          "shell.execute_reply": "2025-02-18T11:42:38.886730Z"
        },
        "id": "jDKK-ejfhm6x"
      },
      "outputs": [],
      "execution_count": null
    },
    {
      "cell_type": "markdown",
      "source": [
        "## **Preprocessing**"
      ],
      "metadata": {
        "id": "rx0AJUlzi76B"
      }
    },
    {
      "cell_type": "markdown",
      "source": [
        "Il grafo importato si presenta nella forma: Soggetto,Verbo,Oggetto; dunque va preprocessato per creare un grafo NetworkX (G) in modo da poter lavorare con grafi.\n",
        "\n",
        "Vengono utilizzati due algoritmi per la rilevazione delle comunità:\n",
        "\n",
        "- **Infomap**: Un algoritmo basato sulla teoria dell'informazione.\n",
        "\n",
        "- **Louvain**: Un algoritmo di ottimizzazione della modularità.\n",
        "\n",
        "Le comunità vengono estratte e salvate in due dizionari: **infomap_communities** e **louvain_communities**."
      ],
      "metadata": {
        "id": "kfVwlHdkh2Zu"
      }
    },
    {
      "cell_type": "code",
      "source": [
        "def preprocess_graph_data(data):\n",
        "    G = nx.MultiGraph()\n",
        "\n",
        "    for entry in data:\n",
        "        nodo1 = entry[\"nodo1\"][\"id\"]\n",
        "        nodo2 = entry[\"nodo2\"][\"id\"]\n",
        "\n",
        "        if nodo1 != nodo2:\n",
        "            G.add_edge(nodo1, nodo2)\n",
        "\n",
        "    return G\n",
        "\n",
        "# Community: Infomap\n",
        "def infomap_community_detection(G):\n",
        "    im = Infomap()\n",
        "    for u, v in G.edges():\n",
        "        im.add_link(u, v)\n",
        "    im.run()\n",
        "\n",
        "    return {node_id: module_id for node_id, module_id in im.modules}\n",
        "\n",
        "# Community detection: Louvain\n",
        "def louvain_community_detection(G):\n",
        "    return community_louvain.best_partition(G)\n",
        "\n",
        "G = preprocess_graph_data(data)\n",
        "infomap_communities = infomap_community_detection(G)\n",
        "louvain_communities = louvain_community_detection(G)\n",
        "\n",
        "# Abbiamo output del tipo: {node_id: community_id}"
      ],
      "metadata": {
        "trusted": true,
        "execution": {
          "iopub.status.busy": "2025-02-18T11:42:38.888587Z",
          "iopub.execute_input": "2025-02-18T11:42:38.888848Z",
          "iopub.status.idle": "2025-02-18T11:42:39.390788Z",
          "shell.execute_reply.started": "2025-02-18T11:42:38.888826Z",
          "shell.execute_reply": "2025-02-18T11:42:39.389860Z"
        },
        "id": "bP4LBuH_hm6z"
      },
      "outputs": [],
      "execution_count": null
    },
    {
      "cell_type": "code",
      "source": [
        "print(G)"
      ],
      "metadata": {
        "trusted": true,
        "execution": {
          "iopub.status.busy": "2025-02-18T11:42:39.391655Z",
          "iopub.execute_input": "2025-02-18T11:42:39.392005Z",
          "iopub.status.idle": "2025-02-18T11:42:39.399632Z",
          "shell.execute_reply.started": "2025-02-18T11:42:39.391973Z",
          "shell.execute_reply": "2025-02-18T11:42:39.398745Z"
        },
        "id": "EEr2Jbochm60",
        "outputId": "bef4a7e8-ccf9-4480-d6fe-05dfdaedf17c"
      },
      "outputs": [
        {
          "name": "stdout",
          "text": "MultiGraph with 2701 nodes and 18996 edges\n",
          "output_type": "stream"
        }
      ],
      "execution_count": null
    },
    {
      "cell_type": "markdown",
      "source": [
        "## **Calcolo le statistiche delle community estaratte**\n",
        "\n",
        "Vengono calcolate statistiche come il numero di nodi, archi, densità, grado medio e centralità per ogni comunità."
      ],
      "metadata": {
        "id": "NZEo8_Alhm61"
      }
    },
    {
      "cell_type": "code",
      "source": [
        "def compute_community_stats(G, community_dict):\n",
        "    community_nodes = defaultdict(list)\n",
        "    for node, comm_id in community_dict.items():\n",
        "        community_nodes[comm_id].append(node)\n",
        "\n",
        "    community_stats = []\n",
        "    for comm_id, nodes in community_nodes.items():\n",
        "        subgraph = G.subgraph(nodes)\n",
        "        num_nodes = subgraph.number_of_nodes()\n",
        "        num_edges = subgraph.number_of_edges()\n",
        "        density = nx.density(subgraph)\n",
        "        avg_degree = np.mean([d for _, d in subgraph.degree()]) if num_nodes > 0 else 0\n",
        "        centrality = np.mean(list(nx.pagerank(subgraph).values())) if num_nodes > 1 else 0\n",
        "\n",
        "        community_stats.append({\n",
        "            \"community\": comm_id,\n",
        "            \"num_nodi\": num_nodes,\n",
        "            \"edges\": num_edges,\n",
        "            \"density\": density,\n",
        "            \"avg_degree\": avg_degree,\n",
        "            \"centrality\": centrality\n",
        "        })\n",
        "\n",
        "    return pd.DataFrame(community_stats)\n",
        "\n",
        "\n",
        "infomap_df = compute_community_stats(G, infomap_communities)\n",
        "louvain_df = compute_community_stats(G, louvain_communities)"
      ],
      "metadata": {
        "trusted": true,
        "execution": {
          "iopub.status.busy": "2025-02-18T11:42:39.400661Z",
          "iopub.execute_input": "2025-02-18T11:42:39.400926Z",
          "iopub.status.idle": "2025-02-18T11:42:40.751959Z",
          "shell.execute_reply.started": "2025-02-18T11:42:39.400900Z",
          "shell.execute_reply": "2025-02-18T11:42:40.751070Z"
        },
        "id": "dKWcqivchm62"
      },
      "outputs": [],
      "execution_count": null
    },
    {
      "cell_type": "code",
      "source": [
        "infomap_df"
      ],
      "metadata": {
        "trusted": true,
        "execution": {
          "iopub.status.busy": "2025-02-18T11:42:40.752729Z",
          "iopub.execute_input": "2025-02-18T11:42:40.752993Z",
          "iopub.status.idle": "2025-02-18T11:42:40.767105Z",
          "shell.execute_reply.started": "2025-02-18T11:42:40.752972Z",
          "shell.execute_reply": "2025-02-18T11:42:40.766250Z"
        },
        "id": "QLwQmrZ_hm63",
        "outputId": "566e846d-b5a5-4ec3-dcab-d34c15852035"
      },
      "outputs": [
        {
          "execution_count": 7,
          "output_type": "execute_result",
          "data": {
            "text/plain": "     community  num_nodi  edges   density  avg_degree  centrality\n0           25        18     44  0.287582    4.888889    0.055556\n1           60        11     22  0.400000    4.000000    0.090909\n2           65         8     18  0.642857    4.500000    0.125000\n3            1       230   2230  0.084678   19.391304    0.004348\n4            5        37    204  0.306306   11.027027    0.027027\n..         ...       ...    ...       ...         ...         ...\n347        157         4      6  1.000000    3.000000    0.250000\n348        292         2      2  2.000000    2.000000    0.500000\n349        193         3      4  1.333333    2.666667    0.333333\n350        271         2      2  2.000000    2.000000    0.500000\n351        198         3      4  1.333333    2.666667    0.333333\n\n[352 rows x 6 columns]",
            "text/html": "<div>\n<style scoped>\n    .dataframe tbody tr th:only-of-type {\n        vertical-align: middle;\n    }\n\n    .dataframe tbody tr th {\n        vertical-align: top;\n    }\n\n    .dataframe thead th {\n        text-align: right;\n    }\n</style>\n<table border=\"1\" class=\"dataframe\">\n  <thead>\n    <tr style=\"text-align: right;\">\n      <th></th>\n      <th>community</th>\n      <th>num_nodi</th>\n      <th>edges</th>\n      <th>density</th>\n      <th>avg_degree</th>\n      <th>centrality</th>\n    </tr>\n  </thead>\n  <tbody>\n    <tr>\n      <th>0</th>\n      <td>25</td>\n      <td>18</td>\n      <td>44</td>\n      <td>0.287582</td>\n      <td>4.888889</td>\n      <td>0.055556</td>\n    </tr>\n    <tr>\n      <th>1</th>\n      <td>60</td>\n      <td>11</td>\n      <td>22</td>\n      <td>0.400000</td>\n      <td>4.000000</td>\n      <td>0.090909</td>\n    </tr>\n    <tr>\n      <th>2</th>\n      <td>65</td>\n      <td>8</td>\n      <td>18</td>\n      <td>0.642857</td>\n      <td>4.500000</td>\n      <td>0.125000</td>\n    </tr>\n    <tr>\n      <th>3</th>\n      <td>1</td>\n      <td>230</td>\n      <td>2230</td>\n      <td>0.084678</td>\n      <td>19.391304</td>\n      <td>0.004348</td>\n    </tr>\n    <tr>\n      <th>4</th>\n      <td>5</td>\n      <td>37</td>\n      <td>204</td>\n      <td>0.306306</td>\n      <td>11.027027</td>\n      <td>0.027027</td>\n    </tr>\n    <tr>\n      <th>...</th>\n      <td>...</td>\n      <td>...</td>\n      <td>...</td>\n      <td>...</td>\n      <td>...</td>\n      <td>...</td>\n    </tr>\n    <tr>\n      <th>347</th>\n      <td>157</td>\n      <td>4</td>\n      <td>6</td>\n      <td>1.000000</td>\n      <td>3.000000</td>\n      <td>0.250000</td>\n    </tr>\n    <tr>\n      <th>348</th>\n      <td>292</td>\n      <td>2</td>\n      <td>2</td>\n      <td>2.000000</td>\n      <td>2.000000</td>\n      <td>0.500000</td>\n    </tr>\n    <tr>\n      <th>349</th>\n      <td>193</td>\n      <td>3</td>\n      <td>4</td>\n      <td>1.333333</td>\n      <td>2.666667</td>\n      <td>0.333333</td>\n    </tr>\n    <tr>\n      <th>350</th>\n      <td>271</td>\n      <td>2</td>\n      <td>2</td>\n      <td>2.000000</td>\n      <td>2.000000</td>\n      <td>0.500000</td>\n    </tr>\n    <tr>\n      <th>351</th>\n      <td>198</td>\n      <td>3</td>\n      <td>4</td>\n      <td>1.333333</td>\n      <td>2.666667</td>\n      <td>0.333333</td>\n    </tr>\n  </tbody>\n</table>\n<p>352 rows × 6 columns</p>\n</div>"
          },
          "metadata": {}
        }
      ],
      "execution_count": null
    },
    {
      "cell_type": "code",
      "source": [
        "louvain_df"
      ],
      "metadata": {
        "trusted": true,
        "execution": {
          "iopub.status.busy": "2025-02-18T11:42:40.769707Z",
          "iopub.execute_input": "2025-02-18T11:42:40.770157Z",
          "iopub.status.idle": "2025-02-18T11:42:40.781042Z",
          "shell.execute_reply.started": "2025-02-18T11:42:40.770127Z",
          "shell.execute_reply": "2025-02-18T11:42:40.780211Z"
        },
        "id": "qdZdYsHnhm63",
        "outputId": "896bce9b-5ccf-4a88-e418-67a4b8e3ad6e"
      },
      "outputs": [
        {
          "execution_count": 8,
          "output_type": "execute_result",
          "data": {
            "text/plain": "     community  num_nodi  edges   density  avg_degree  centrality\n0           28       162    554  0.042481    6.839506    0.006173\n1            1       397   1858  0.023637    9.360202    0.002519\n2            4       247   1800  0.059248   14.574899    0.004049\n3           27       145    568  0.054406    7.834483    0.006897\n4            8       112    292  0.046976    5.214286    0.008929\n..         ...       ...    ...       ...         ...         ...\n143         68         2      2  2.000000    2.000000    0.500000\n144         69         2      2  2.000000    2.000000    0.500000\n145         70         3      4  1.333333    2.666667    0.333333\n146         75         2      2  2.000000    2.000000    0.500000\n147         81         3      4  1.333333    2.666667    0.333333\n\n[148 rows x 6 columns]",
            "text/html": "<div>\n<style scoped>\n    .dataframe tbody tr th:only-of-type {\n        vertical-align: middle;\n    }\n\n    .dataframe tbody tr th {\n        vertical-align: top;\n    }\n\n    .dataframe thead th {\n        text-align: right;\n    }\n</style>\n<table border=\"1\" class=\"dataframe\">\n  <thead>\n    <tr style=\"text-align: right;\">\n      <th></th>\n      <th>community</th>\n      <th>num_nodi</th>\n      <th>edges</th>\n      <th>density</th>\n      <th>avg_degree</th>\n      <th>centrality</th>\n    </tr>\n  </thead>\n  <tbody>\n    <tr>\n      <th>0</th>\n      <td>28</td>\n      <td>162</td>\n      <td>554</td>\n      <td>0.042481</td>\n      <td>6.839506</td>\n      <td>0.006173</td>\n    </tr>\n    <tr>\n      <th>1</th>\n      <td>1</td>\n      <td>397</td>\n      <td>1858</td>\n      <td>0.023637</td>\n      <td>9.360202</td>\n      <td>0.002519</td>\n    </tr>\n    <tr>\n      <th>2</th>\n      <td>4</td>\n      <td>247</td>\n      <td>1800</td>\n      <td>0.059248</td>\n      <td>14.574899</td>\n      <td>0.004049</td>\n    </tr>\n    <tr>\n      <th>3</th>\n      <td>27</td>\n      <td>145</td>\n      <td>568</td>\n      <td>0.054406</td>\n      <td>7.834483</td>\n      <td>0.006897</td>\n    </tr>\n    <tr>\n      <th>4</th>\n      <td>8</td>\n      <td>112</td>\n      <td>292</td>\n      <td>0.046976</td>\n      <td>5.214286</td>\n      <td>0.008929</td>\n    </tr>\n    <tr>\n      <th>...</th>\n      <td>...</td>\n      <td>...</td>\n      <td>...</td>\n      <td>...</td>\n      <td>...</td>\n      <td>...</td>\n    </tr>\n    <tr>\n      <th>143</th>\n      <td>68</td>\n      <td>2</td>\n      <td>2</td>\n      <td>2.000000</td>\n      <td>2.000000</td>\n      <td>0.500000</td>\n    </tr>\n    <tr>\n      <th>144</th>\n      <td>69</td>\n      <td>2</td>\n      <td>2</td>\n      <td>2.000000</td>\n      <td>2.000000</td>\n      <td>0.500000</td>\n    </tr>\n    <tr>\n      <th>145</th>\n      <td>70</td>\n      <td>3</td>\n      <td>4</td>\n      <td>1.333333</td>\n      <td>2.666667</td>\n      <td>0.333333</td>\n    </tr>\n    <tr>\n      <th>146</th>\n      <td>75</td>\n      <td>2</td>\n      <td>2</td>\n      <td>2.000000</td>\n      <td>2.000000</td>\n      <td>0.500000</td>\n    </tr>\n    <tr>\n      <th>147</th>\n      <td>81</td>\n      <td>3</td>\n      <td>4</td>\n      <td>1.333333</td>\n      <td>2.666667</td>\n      <td>0.333333</td>\n    </tr>\n  </tbody>\n</table>\n<p>148 rows × 6 columns</p>\n</div>"
          },
          "metadata": {}
        }
      ],
      "execution_count": null
    },
    {
      "cell_type": "markdown",
      "source": [
        "## **Selzione delle community piu significative**\n",
        "Vengono selezionate le comunità più significative basandosi su:"
      ],
      "metadata": {
        "id": "YHGSLc2hhm64"
      }
    },
    {
      "cell_type": "markdown",
      "source": [
        "### **1. Densità**: Comunità con alta densità\n"
      ],
      "metadata": {
        "id": "kcowvQ5Qhm65"
      }
    },
    {
      "cell_type": "code",
      "source": [
        "def select_diverse_dense_communities(df, num_top=15, diversity_threshold=0.6):\n",
        "    df_filtered = df[(df[\"num_nodi\"] > 20) & (df[\"edges\"] > 0)]\n",
        "\n",
        "    df_sorted = df_filtered.nlargest(num_top * 5, \"density\")\n",
        "\n",
        "    selected = []\n",
        "    selected_communities = set()\n",
        "\n",
        "    for _, row in df_sorted.iterrows():\n",
        "        row_nodes = row[\"num_nodi\"]\n",
        "\n",
        "        # Verifica la diversità rispetto ai grafi già selezionati\n",
        "        is_diverse = True\n",
        "        for existing in selected:\n",
        "            if abs(row_nodes - existing[\"num_nodi\"]) <= diversity_threshold * max(row_nodes, existing[\"num_nodi\"]):\n",
        "                is_diverse = False\n",
        "                break\n",
        "\n",
        "        if is_diverse:\n",
        "            row_dict = row.to_dict()\n",
        "            row_dict[\"criterion\"] = \"largest_density\"\n",
        "            selected.append(row_dict)\n",
        "            selected_communities.add(row[\"community\"])\n",
        "\n",
        "        if len(selected) >= num_top:\n",
        "            break\n",
        "\n",
        "    return pd.DataFrame(selected)"
      ],
      "metadata": {
        "trusted": true,
        "execution": {
          "iopub.status.busy": "2025-02-18T11:42:40.782663Z",
          "iopub.execute_input": "2025-02-18T11:42:40.782969Z",
          "iopub.status.idle": "2025-02-18T11:42:40.806202Z",
          "shell.execute_reply.started": "2025-02-18T11:42:40.782939Z",
          "shell.execute_reply": "2025-02-18T11:42:40.805295Z"
        },
        "id": "fkx68anphm66"
      },
      "outputs": [],
      "execution_count": null
    },
    {
      "cell_type": "markdown",
      "source": [
        "### **2. Dimensione**: Comunità con molti nodi"
      ],
      "metadata": {
        "id": "-RwcgRz4hm66"
      }
    },
    {
      "cell_type": "code",
      "source": [
        "def select_diverse_largest_communities(df, num_selected=15, diversity_threshold=0.6):\n",
        "    df_filtered = df[(df[\"num_nodi\"] > 20) & (df[\"edges\"] > 0)]\n",
        "\n",
        "    df_sorted = df_filtered.sort_values(by=\"num_nodi\", ascending=False)\n",
        "\n",
        "    selected = []\n",
        "    selected_communities = set()\n",
        "\n",
        "    for _, row in df_sorted.iterrows():\n",
        "        if len(selected) >= num_selected:\n",
        "            break\n",
        "\n",
        "        # Verifica la diversità rispetto ai grafi già selezionati\n",
        "        is_diverse = True\n",
        "        for existing in selected:\n",
        "            if abs(row[\"num_nodi\"] - existing[\"num_nodi\"]) <= diversity_threshold * max(row[\"num_nodi\"], existing[\"num_nodi\"]):\n",
        "                is_diverse = False\n",
        "                break\n",
        "\n",
        "        if is_diverse:\n",
        "            row_dict = row.to_dict()\n",
        "            row_dict[\"criterion\"] = \"largest_size\"\n",
        "            selected.append(row_dict)\n",
        "            selected_communities.add(row[\"community\"])\n",
        "\n",
        "    return pd.DataFrame(selected)"
      ],
      "metadata": {
        "trusted": true,
        "execution": {
          "iopub.status.busy": "2025-02-18T11:42:40.807078Z",
          "iopub.execute_input": "2025-02-18T11:42:40.807368Z",
          "iopub.status.idle": "2025-02-18T11:42:40.826090Z",
          "shell.execute_reply.started": "2025-02-18T11:42:40.807337Z",
          "shell.execute_reply": "2025-02-18T11:42:40.825286Z"
        },
        "id": "g0f7WnBShm67"
      },
      "outputs": [],
      "execution_count": null
    },
    {
      "cell_type": "markdown",
      "source": [
        "### **3. Centralità**: Comunità con nodi centrali\n",
        "\n"
      ],
      "metadata": {
        "id": "BAkv0y0whm68"
      }
    },
    {
      "cell_type": "code",
      "source": [
        "def select_diverse_central_graphs(df, top_n=15, diversity_threshold=0.6):\n",
        "    df_filtered = df[(df[\"num_nodi\"] > 20) & (df[\"edges\"] > 0)]\n",
        "\n",
        "    top_graphs = df_filtered.nlargest(top_n * 5, \"centrality\")\n",
        "\n",
        "    selected = []\n",
        "    selected_communities = set()\n",
        "\n",
        "    for _, row in top_graphs.iterrows():\n",
        "        community = row[\"community\"]\n",
        "\n",
        "        # Verifica la diversità rispetto ai grafi già selezionati\n",
        "        is_diverse = True\n",
        "        for existing in selected:\n",
        "            if abs(row[\"num_nodi\"] - existing[\"num_nodi\"]) <= diversity_threshold * max(row[\"num_nodi\"], existing[\"num_nodi\"]):\n",
        "                is_diverse = False\n",
        "                break\n",
        "\n",
        "        if is_diverse:\n",
        "            row_dict = row.to_dict()\n",
        "            row_dict[\"criterion\"] = \"largest_centrality\"\n",
        "            selected.append(row_dict)\n",
        "            selected_communities.add(community)\n",
        "\n",
        "        if len(selected) == top_n:\n",
        "            break\n",
        "\n",
        "    return pd.DataFrame(selected)"
      ],
      "metadata": {
        "trusted": true,
        "execution": {
          "iopub.status.busy": "2025-02-18T11:42:40.827043Z",
          "iopub.execute_input": "2025-02-18T11:42:40.827360Z",
          "iopub.status.idle": "2025-02-18T11:42:40.842167Z",
          "shell.execute_reply.started": "2025-02-18T11:42:40.827330Z",
          "shell.execute_reply": "2025-02-18T11:42:40.841388Z"
        },
        "id": "AnHmwg2Ghm68"
      },
      "outputs": [],
      "execution_count": null
    },
    {
      "cell_type": "markdown",
      "source": [
        "Si estraggono i grafi con le statistiche descritte"
      ],
      "metadata": {
        "id": "1LiBnL_6hm68"
      }
    },
    {
      "cell_type": "code",
      "source": [
        "def combine_graph_selections(dense_df, large_df, central_df):\n",
        "    dense_df['selection_order'] = range(len(dense_df))\n",
        "    large_df['selection_order'] = range(len(large_df))\n",
        "    central_df['selection_order'] = range(len(central_df))\n",
        "\n",
        "    combined = pd.concat([dense_df, large_df, central_df])\n",
        "\n",
        "    combined = combined.sort_values(['community', 'selection_order'])\n",
        "    combined_unique = combined.drop_duplicates(subset=['community', 'criterion'])\n",
        "    combined_unique = combined_unique.drop('selection_order', axis=1)\n",
        "\n",
        "    return combined_unique.reset_index(drop=True)\n",
        "\n",
        "# INFOMAP\n",
        "dense_communities_infomap = select_diverse_dense_communities(infomap_df, num_top=15)\n",
        "largest_communities_infomap = select_diverse_largest_communities(infomap_df, num_selected=15)\n",
        "central_graphs_infomap = select_diverse_central_graphs(infomap_df, top_n=15)\n",
        "\n",
        "final_selection_infomap = combine_graph_selections(dense_communities_infomap, largest_communities_infomap, central_graphs_infomap)\n",
        "selected_communities_infomap = final_selection_infomap.drop_duplicates(subset='community')\n",
        "\n",
        "\n",
        "# LOUVAIN\n",
        "dense_communities_louvain = select_diverse_dense_communities(louvain_df, num_top=15)\n",
        "largest_communities_louvain = select_diverse_largest_communities(louvain_df, num_selected=15)\n",
        "central_graphs_louvain = select_diverse_central_graphs(louvain_df, top_n=15)\n",
        "\n",
        "final_selection_louvain = combine_graph_selections(dense_communities_louvain, largest_communities_louvain, central_graphs_louvain)\n",
        "selected_communities_louvain = final_selection_louvain.drop_duplicates(subset='community')"
      ],
      "metadata": {
        "trusted": true,
        "execution": {
          "iopub.status.busy": "2025-02-18T11:42:40.843120Z",
          "iopub.execute_input": "2025-02-18T11:42:40.843404Z",
          "iopub.status.idle": "2025-02-18T11:42:40.889759Z",
          "shell.execute_reply.started": "2025-02-18T11:42:40.843375Z",
          "shell.execute_reply": "2025-02-18T11:42:40.888855Z"
        },
        "id": "2sH-J7TVhm69"
      },
      "outputs": [],
      "execution_count": null
    },
    {
      "cell_type": "code",
      "source": [
        "selected_communities_infomap"
      ],
      "metadata": {
        "trusted": true,
        "execution": {
          "iopub.status.busy": "2025-02-18T11:42:40.890642Z",
          "iopub.execute_input": "2025-02-18T11:42:40.890944Z",
          "iopub.status.idle": "2025-02-18T11:42:40.904887Z",
          "shell.execute_reply.started": "2025-02-18T11:42:40.890918Z",
          "shell.execute_reply": "2025-02-18T11:42:40.903961Z"
        },
        "id": "R46SCkyDhm6-",
        "outputId": "16c34438-4a10-4b9a-cff0-f0db985efb3e"
      },
      "outputs": [
        {
          "execution_count": 13,
          "output_type": "execute_result",
          "data": {
            "text/plain": "   community  num_nodi   edges   density  avg_degree  centrality  \\\n0        1.0     230.0  2230.0  0.084678   19.391304    0.004348   \n3        3.0      75.0   382.0  0.137658   10.186667    0.013333   \n4        6.0      59.0   240.0  0.140269    8.135593    0.016949   \n5        9.0      31.0   172.0  0.369892   11.096774    0.032258   \n6       19.0      29.0    74.0  0.182266    5.103448    0.034483   \n7       32.0      21.0    52.0  0.247619    4.952381    0.047619   \n\n            criterion  \n0        largest_size  \n3        largest_size  \n4  largest_centrality  \n5     largest_density  \n6        largest_size  \n7  largest_centrality  ",
            "text/html": "<div>\n<style scoped>\n    .dataframe tbody tr th:only-of-type {\n        vertical-align: middle;\n    }\n\n    .dataframe tbody tr th {\n        vertical-align: top;\n    }\n\n    .dataframe thead th {\n        text-align: right;\n    }\n</style>\n<table border=\"1\" class=\"dataframe\">\n  <thead>\n    <tr style=\"text-align: right;\">\n      <th></th>\n      <th>community</th>\n      <th>num_nodi</th>\n      <th>edges</th>\n      <th>density</th>\n      <th>avg_degree</th>\n      <th>centrality</th>\n      <th>criterion</th>\n    </tr>\n  </thead>\n  <tbody>\n    <tr>\n      <th>0</th>\n      <td>1.0</td>\n      <td>230.0</td>\n      <td>2230.0</td>\n      <td>0.084678</td>\n      <td>19.391304</td>\n      <td>0.004348</td>\n      <td>largest_size</td>\n    </tr>\n    <tr>\n      <th>3</th>\n      <td>3.0</td>\n      <td>75.0</td>\n      <td>382.0</td>\n      <td>0.137658</td>\n      <td>10.186667</td>\n      <td>0.013333</td>\n      <td>largest_size</td>\n    </tr>\n    <tr>\n      <th>4</th>\n      <td>6.0</td>\n      <td>59.0</td>\n      <td>240.0</td>\n      <td>0.140269</td>\n      <td>8.135593</td>\n      <td>0.016949</td>\n      <td>largest_centrality</td>\n    </tr>\n    <tr>\n      <th>5</th>\n      <td>9.0</td>\n      <td>31.0</td>\n      <td>172.0</td>\n      <td>0.369892</td>\n      <td>11.096774</td>\n      <td>0.032258</td>\n      <td>largest_density</td>\n    </tr>\n    <tr>\n      <th>6</th>\n      <td>19.0</td>\n      <td>29.0</td>\n      <td>74.0</td>\n      <td>0.182266</td>\n      <td>5.103448</td>\n      <td>0.034483</td>\n      <td>largest_size</td>\n    </tr>\n    <tr>\n      <th>7</th>\n      <td>32.0</td>\n      <td>21.0</td>\n      <td>52.0</td>\n      <td>0.247619</td>\n      <td>4.952381</td>\n      <td>0.047619</td>\n      <td>largest_centrality</td>\n    </tr>\n  </tbody>\n</table>\n</div>"
          },
          "metadata": {}
        }
      ],
      "execution_count": null
    },
    {
      "cell_type": "code",
      "source": [
        "selected_communities_louvain"
      ],
      "metadata": {
        "trusted": true,
        "execution": {
          "iopub.status.busy": "2025-02-18T11:42:40.905786Z",
          "iopub.execute_input": "2025-02-18T11:42:40.906108Z",
          "iopub.status.idle": "2025-02-18T11:42:40.924430Z",
          "shell.execute_reply.started": "2025-02-18T11:42:40.906075Z",
          "shell.execute_reply": "2025-02-18T11:42:40.923030Z"
        },
        "id": "quRNQcDIhm6_",
        "outputId": "379653cd-bfb4-45b4-ece9-33b94a0bc935"
      },
      "outputs": [
        {
          "execution_count": 14,
          "output_type": "execute_result",
          "data": {
            "text/plain": "   community  num_nodi   edges   density  avg_degree  centrality  \\\n0        1.0     397.0  1858.0  0.023637    9.360202    0.002519   \n1        4.0     247.0  1800.0  0.059248   14.574899    0.004049   \n2       27.0     145.0   568.0  0.054406    7.834483    0.006897   \n3       28.0     162.0   554.0  0.042481    6.839506    0.006173   \n4       36.0      59.0   186.0  0.108708    6.305085    0.016949   \n\n            criterion  \n0        largest_size  \n1     largest_density  \n2        largest_size  \n3  largest_centrality  \n4     largest_density  ",
            "text/html": "<div>\n<style scoped>\n    .dataframe tbody tr th:only-of-type {\n        vertical-align: middle;\n    }\n\n    .dataframe tbody tr th {\n        vertical-align: top;\n    }\n\n    .dataframe thead th {\n        text-align: right;\n    }\n</style>\n<table border=\"1\" class=\"dataframe\">\n  <thead>\n    <tr style=\"text-align: right;\">\n      <th></th>\n      <th>community</th>\n      <th>num_nodi</th>\n      <th>edges</th>\n      <th>density</th>\n      <th>avg_degree</th>\n      <th>centrality</th>\n      <th>criterion</th>\n    </tr>\n  </thead>\n  <tbody>\n    <tr>\n      <th>0</th>\n      <td>1.0</td>\n      <td>397.0</td>\n      <td>1858.0</td>\n      <td>0.023637</td>\n      <td>9.360202</td>\n      <td>0.002519</td>\n      <td>largest_size</td>\n    </tr>\n    <tr>\n      <th>1</th>\n      <td>4.0</td>\n      <td>247.0</td>\n      <td>1800.0</td>\n      <td>0.059248</td>\n      <td>14.574899</td>\n      <td>0.004049</td>\n      <td>largest_density</td>\n    </tr>\n    <tr>\n      <th>2</th>\n      <td>27.0</td>\n      <td>145.0</td>\n      <td>568.0</td>\n      <td>0.054406</td>\n      <td>7.834483</td>\n      <td>0.006897</td>\n      <td>largest_size</td>\n    </tr>\n    <tr>\n      <th>3</th>\n      <td>28.0</td>\n      <td>162.0</td>\n      <td>554.0</td>\n      <td>0.042481</td>\n      <td>6.839506</td>\n      <td>0.006173</td>\n      <td>largest_centrality</td>\n    </tr>\n    <tr>\n      <th>4</th>\n      <td>36.0</td>\n      <td>59.0</td>\n      <td>186.0</td>\n      <td>0.108708</td>\n      <td>6.305085</td>\n      <td>0.016949</td>\n      <td>largest_density</td>\n    </tr>\n  </tbody>\n</table>\n</div>"
          },
          "metadata": {}
        }
      ],
      "execution_count": null
    },
    {
      "cell_type": "markdown",
      "source": [
        "### **4.Grafi meno densi, centrali e piccoli**: Vengono anche selezionate comunità meno dense e meno centrali per un confronto.\n",
        "\n"
      ],
      "metadata": {
        "id": "u7YD21y8hm7A"
      }
    },
    {
      "cell_type": "code",
      "source": [
        "def select_diverse_communities(df, num_per_criterion=3):\n",
        "    # Filtra per rimuovere comunità con pochi nodi o senza archi\n",
        "    df_filtered = df[(df[\"num_nodi\"] > 25) & (df[\"edges\"] > 0)]\n",
        "\n",
        "    selected = []\n",
        "    selected_communities = set()\n",
        "\n",
        "    def add_communities(selection_df, criterion):\n",
        "        count = 0\n",
        "        for _, row in selection_df.iterrows():\n",
        "            if row[\"community\"] not in selected_communities:\n",
        "                row_dict = row.to_dict()\n",
        "                row_dict[\"criterion\"] = criterion\n",
        "                selected.append(row_dict)\n",
        "                selected_communities.add(row[\"community\"])\n",
        "                count += 1\n",
        "            if count >= num_per_criterion:\n",
        "                break\n",
        "\n",
        "    if len(df_filtered) >= num_per_criterion:\n",
        "        add_communities(df_filtered.nsmallest(num_per_criterion, \"num_nodi\"), \"smallest_size\")\n",
        "        add_communities(df_filtered.nsmallest(num_per_criterion, \"density\"), \"smallest_density\")\n",
        "        add_communities(df_filtered.nsmallest(num_per_criterion, \"centrality\"), \"smallest_centrality\")\n",
        "\n",
        "    return pd.DataFrame(selected)\n",
        "\n",
        "selected_communities_infomap_small = select_diverse_communities(infomap_df, num_per_criterion=3)\n",
        "selected_communities_infomap = pd.concat([selected_communities_infomap, selected_communities_infomap_small])\n",
        "selected_communities_infomap = selected_communities_infomap.drop_duplicates(subset='community')\n",
        "\n",
        "selected_communities_louvain_small = select_diverse_communities(louvain_df, num_per_criterion=3)\n",
        "selected_communities_louvain = pd.concat([selected_communities_louvain, selected_communities_louvain_small])\n",
        "selected_communities_louvain = selected_communities_louvain.drop_duplicates(subset='community')"
      ],
      "metadata": {
        "trusted": true,
        "execution": {
          "iopub.status.busy": "2025-02-18T11:42:40.925158Z",
          "iopub.execute_input": "2025-02-18T11:42:40.925433Z",
          "iopub.status.idle": "2025-02-18T11:42:40.952957Z",
          "shell.execute_reply.started": "2025-02-18T11:42:40.925407Z",
          "shell.execute_reply": "2025-02-18T11:42:40.952168Z"
        },
        "id": "YouMwk78hm7B"
      },
      "outputs": [],
      "execution_count": null
    },
    {
      "cell_type": "code",
      "source": [
        "selected_communities_infomap"
      ],
      "metadata": {
        "trusted": true,
        "execution": {
          "iopub.status.busy": "2025-02-18T11:42:40.953891Z",
          "iopub.execute_input": "2025-02-18T11:42:40.954195Z",
          "iopub.status.idle": "2025-02-18T11:42:40.978653Z",
          "shell.execute_reply.started": "2025-02-18T11:42:40.954165Z",
          "shell.execute_reply": "2025-02-18T11:42:40.977864Z"
        },
        "id": "VkEUoKJChm7C",
        "outputId": "051b4823-7381-4279-e337-9144414a9523"
      },
      "outputs": [
        {
          "execution_count": 16,
          "output_type": "execute_result",
          "data": {
            "text/plain": "   community  num_nodi   edges   density  avg_degree  centrality  \\\n0        1.0     230.0  2230.0  0.084678   19.391304    0.004348   \n3        3.0      75.0   382.0  0.137658   10.186667    0.013333   \n4        6.0      59.0   240.0  0.140269    8.135593    0.016949   \n5        9.0      31.0   172.0  0.369892   11.096774    0.032258   \n6       19.0      29.0    74.0  0.182266    5.103448    0.034483   \n7       32.0      21.0    52.0  0.247619    4.952381    0.047619   \n0       16.0      27.0    68.0  0.193732    5.037037    0.037037   \n2       22.0      29.0    64.0  0.157635    4.413793    0.034483   \n3        2.0     230.0  1176.0  0.044655   10.226087    0.004348   \n5        8.0      65.0   246.0  0.118269    7.569231    0.015385   \n\n            criterion  \n0        largest_size  \n3        largest_size  \n4  largest_centrality  \n5     largest_density  \n6        largest_size  \n7  largest_centrality  \n0       smallest_size  \n2       smallest_size  \n3    smallest_density  \n5    smallest_density  ",
            "text/html": "<div>\n<style scoped>\n    .dataframe tbody tr th:only-of-type {\n        vertical-align: middle;\n    }\n\n    .dataframe tbody tr th {\n        vertical-align: top;\n    }\n\n    .dataframe thead th {\n        text-align: right;\n    }\n</style>\n<table border=\"1\" class=\"dataframe\">\n  <thead>\n    <tr style=\"text-align: right;\">\n      <th></th>\n      <th>community</th>\n      <th>num_nodi</th>\n      <th>edges</th>\n      <th>density</th>\n      <th>avg_degree</th>\n      <th>centrality</th>\n      <th>criterion</th>\n    </tr>\n  </thead>\n  <tbody>\n    <tr>\n      <th>0</th>\n      <td>1.0</td>\n      <td>230.0</td>\n      <td>2230.0</td>\n      <td>0.084678</td>\n      <td>19.391304</td>\n      <td>0.004348</td>\n      <td>largest_size</td>\n    </tr>\n    <tr>\n      <th>3</th>\n      <td>3.0</td>\n      <td>75.0</td>\n      <td>382.0</td>\n      <td>0.137658</td>\n      <td>10.186667</td>\n      <td>0.013333</td>\n      <td>largest_size</td>\n    </tr>\n    <tr>\n      <th>4</th>\n      <td>6.0</td>\n      <td>59.0</td>\n      <td>240.0</td>\n      <td>0.140269</td>\n      <td>8.135593</td>\n      <td>0.016949</td>\n      <td>largest_centrality</td>\n    </tr>\n    <tr>\n      <th>5</th>\n      <td>9.0</td>\n      <td>31.0</td>\n      <td>172.0</td>\n      <td>0.369892</td>\n      <td>11.096774</td>\n      <td>0.032258</td>\n      <td>largest_density</td>\n    </tr>\n    <tr>\n      <th>6</th>\n      <td>19.0</td>\n      <td>29.0</td>\n      <td>74.0</td>\n      <td>0.182266</td>\n      <td>5.103448</td>\n      <td>0.034483</td>\n      <td>largest_size</td>\n    </tr>\n    <tr>\n      <th>7</th>\n      <td>32.0</td>\n      <td>21.0</td>\n      <td>52.0</td>\n      <td>0.247619</td>\n      <td>4.952381</td>\n      <td>0.047619</td>\n      <td>largest_centrality</td>\n    </tr>\n    <tr>\n      <th>0</th>\n      <td>16.0</td>\n      <td>27.0</td>\n      <td>68.0</td>\n      <td>0.193732</td>\n      <td>5.037037</td>\n      <td>0.037037</td>\n      <td>smallest_size</td>\n    </tr>\n    <tr>\n      <th>2</th>\n      <td>22.0</td>\n      <td>29.0</td>\n      <td>64.0</td>\n      <td>0.157635</td>\n      <td>4.413793</td>\n      <td>0.034483</td>\n      <td>smallest_size</td>\n    </tr>\n    <tr>\n      <th>3</th>\n      <td>2.0</td>\n      <td>230.0</td>\n      <td>1176.0</td>\n      <td>0.044655</td>\n      <td>10.226087</td>\n      <td>0.004348</td>\n      <td>smallest_density</td>\n    </tr>\n    <tr>\n      <th>5</th>\n      <td>8.0</td>\n      <td>65.0</td>\n      <td>246.0</td>\n      <td>0.118269</td>\n      <td>7.569231</td>\n      <td>0.015385</td>\n      <td>smallest_density</td>\n    </tr>\n  </tbody>\n</table>\n</div>"
          },
          "metadata": {}
        }
      ],
      "execution_count": null
    },
    {
      "cell_type": "code",
      "source": [
        "selected_communities_louvain"
      ],
      "metadata": {
        "trusted": true,
        "execution": {
          "iopub.status.busy": "2025-02-18T11:42:40.979445Z",
          "iopub.execute_input": "2025-02-18T11:42:40.979695Z",
          "iopub.status.idle": "2025-02-18T11:42:41.000926Z",
          "shell.execute_reply.started": "2025-02-18T11:42:40.979665Z",
          "shell.execute_reply": "2025-02-18T11:42:41.000079Z"
        },
        "id": "iHrzCbyDhm7D",
        "outputId": "4579952c-b064-41bc-eaba-e8e7d89bd419"
      },
      "outputs": [
        {
          "execution_count": 17,
          "output_type": "execute_result",
          "data": {
            "text/plain": "   community  num_nodi   edges   density  avg_degree  centrality  \\\n0        1.0     397.0  1858.0  0.023637    9.360202    0.002519   \n1        4.0     247.0  1800.0  0.059248   14.574899    0.004049   \n2       27.0     145.0   568.0  0.054406    7.834483    0.006897   \n3       28.0     162.0   554.0  0.042481    6.839506    0.006173   \n4       36.0      59.0   186.0  0.108708    6.305085    0.016949   \n1       33.0     111.0   306.0  0.050123    5.513514    0.009009   \n2        8.0     112.0   292.0  0.046976    5.214286    0.008929   \n4       11.0     182.0   590.0  0.035821    6.483516    0.005495   \n5        7.0     246.0  1108.0  0.036768    9.008130    0.004065   \n\n            criterion  \n0        largest_size  \n1     largest_density  \n2        largest_size  \n3  largest_centrality  \n4     largest_density  \n1       smallest_size  \n2       smallest_size  \n4    smallest_density  \n5    smallest_density  ",
            "text/html": "<div>\n<style scoped>\n    .dataframe tbody tr th:only-of-type {\n        vertical-align: middle;\n    }\n\n    .dataframe tbody tr th {\n        vertical-align: top;\n    }\n\n    .dataframe thead th {\n        text-align: right;\n    }\n</style>\n<table border=\"1\" class=\"dataframe\">\n  <thead>\n    <tr style=\"text-align: right;\">\n      <th></th>\n      <th>community</th>\n      <th>num_nodi</th>\n      <th>edges</th>\n      <th>density</th>\n      <th>avg_degree</th>\n      <th>centrality</th>\n      <th>criterion</th>\n    </tr>\n  </thead>\n  <tbody>\n    <tr>\n      <th>0</th>\n      <td>1.0</td>\n      <td>397.0</td>\n      <td>1858.0</td>\n      <td>0.023637</td>\n      <td>9.360202</td>\n      <td>0.002519</td>\n      <td>largest_size</td>\n    </tr>\n    <tr>\n      <th>1</th>\n      <td>4.0</td>\n      <td>247.0</td>\n      <td>1800.0</td>\n      <td>0.059248</td>\n      <td>14.574899</td>\n      <td>0.004049</td>\n      <td>largest_density</td>\n    </tr>\n    <tr>\n      <th>2</th>\n      <td>27.0</td>\n      <td>145.0</td>\n      <td>568.0</td>\n      <td>0.054406</td>\n      <td>7.834483</td>\n      <td>0.006897</td>\n      <td>largest_size</td>\n    </tr>\n    <tr>\n      <th>3</th>\n      <td>28.0</td>\n      <td>162.0</td>\n      <td>554.0</td>\n      <td>0.042481</td>\n      <td>6.839506</td>\n      <td>0.006173</td>\n      <td>largest_centrality</td>\n    </tr>\n    <tr>\n      <th>4</th>\n      <td>36.0</td>\n      <td>59.0</td>\n      <td>186.0</td>\n      <td>0.108708</td>\n      <td>6.305085</td>\n      <td>0.016949</td>\n      <td>largest_density</td>\n    </tr>\n    <tr>\n      <th>1</th>\n      <td>33.0</td>\n      <td>111.0</td>\n      <td>306.0</td>\n      <td>0.050123</td>\n      <td>5.513514</td>\n      <td>0.009009</td>\n      <td>smallest_size</td>\n    </tr>\n    <tr>\n      <th>2</th>\n      <td>8.0</td>\n      <td>112.0</td>\n      <td>292.0</td>\n      <td>0.046976</td>\n      <td>5.214286</td>\n      <td>0.008929</td>\n      <td>smallest_size</td>\n    </tr>\n    <tr>\n      <th>4</th>\n      <td>11.0</td>\n      <td>182.0</td>\n      <td>590.0</td>\n      <td>0.035821</td>\n      <td>6.483516</td>\n      <td>0.005495</td>\n      <td>smallest_density</td>\n    </tr>\n    <tr>\n      <th>5</th>\n      <td>7.0</td>\n      <td>246.0</td>\n      <td>1108.0</td>\n      <td>0.036768</td>\n      <td>9.008130</td>\n      <td>0.004065</td>\n      <td>smallest_density</td>\n    </tr>\n  </tbody>\n</table>\n</div>"
          },
          "metadata": {}
        }
      ],
      "execution_count": null
    },
    {
      "cell_type": "markdown",
      "source": [
        "## **Preparazione dei dati per le GNN**\n",
        "\n",
        "- I grafi delle comunità selezionate vengono convertiti in formati adatti per l'addestramento delle GNN.\n",
        "\n",
        "- Vengono aggiunte feature strutturali come grado, PageRank e coefficiente di clustering\n"
      ],
      "metadata": {
        "id": "9yoBZRRHka-5"
      }
    },
    {
      "cell_type": "markdown",
      "source": [
        "Mi salvo per ogni ID del grafo le caratteristiche associate ad esse :(community_subgraph_infomap, community_subgraph_louvain )"
      ],
      "metadata": {
        "id": "ACUQ5ZMlhm7D"
      }
    },
    {
      "cell_type": "code",
      "source": [
        "def get_community_subgraph(G, community_dict, target_community):\n",
        "\n",
        "    community_nodes = [node for node, comm_id in community_dict.items() if comm_id == target_community]\n",
        "    subgraph = G.subgraph(community_nodes)\n",
        "\n",
        "    return subgraph\n",
        "\n",
        "\n",
        "community_subgraph_infomap = []\n",
        "community_subgraph_louvain = []\n",
        "\n",
        "for _, community_id in selected_communities_infomap.iterrows():\n",
        "    subgraph = get_community_subgraph(G, infomap_communities, community_id[\"community\"])\n",
        "    community_subgraph_infomap.append((community_id[\"community\"], subgraph))\n",
        "\n",
        "for _, community_id in selected_communities_louvain.iterrows():\n",
        "    subgraph = get_community_subgraph(G, louvain_communities, community_id[\"community\"])\n",
        "    community_subgraph_louvain.append((community_id[\"community\"], subgraph))\n"
      ],
      "metadata": {
        "trusted": true,
        "execution": {
          "iopub.status.busy": "2025-02-18T11:42:41.001860Z",
          "iopub.execute_input": "2025-02-18T11:42:41.002100Z",
          "iopub.status.idle": "2025-02-18T11:42:41.020566Z",
          "shell.execute_reply.started": "2025-02-18T11:42:41.002073Z",
          "shell.execute_reply": "2025-02-18T11:42:41.019762Z"
        },
        "id": "s89yf5C6hm7G"
      },
      "outputs": [],
      "execution_count": null
    },
    {
      "cell_type": "code",
      "source": [
        "id_community, subgraph = community_subgraph_infomap[0]\n",
        "\n",
        "print(f\"Community ID: {id_community}\")\n",
        "print(\"Edges:\", len(list(subgraph.edges())))\n"
      ],
      "metadata": {
        "trusted": true,
        "execution": {
          "iopub.status.busy": "2025-02-18T11:42:41.021509Z",
          "iopub.execute_input": "2025-02-18T11:42:41.021824Z",
          "iopub.status.idle": "2025-02-18T11:42:41.054231Z",
          "shell.execute_reply.started": "2025-02-18T11:42:41.021795Z",
          "shell.execute_reply": "2025-02-18T11:42:41.053447Z"
        },
        "id": "iFhTYmDQhm7G",
        "outputId": "747a061f-11a5-4336-98f2-5384768d34b6"
      },
      "outputs": [
        {
          "name": "stdout",
          "text": "Community ID: 1.0\nEdges: 2230\n",
          "output_type": "stream"
        }
      ],
      "execution_count": null
    },
    {
      "cell_type": "markdown",
      "source": [
        "### **1. Analizziamo i grafi estratti per prepararli alle GNN**\n",
        "\n"
      ],
      "metadata": {
        "id": "G_nMvn50hm7H"
      }
    },
    {
      "cell_type": "code",
      "source": [
        "def extract_subgraph_info(data, subgraph_edges):\n",
        "    subgraph_info = []\n",
        "\n",
        "    edge_pairs = {(n1, n2) for n1, n2 in subgraph_edges}\n",
        "    edge_pairs.update({(n2, n1) for n1, n2 in subgraph_edges})\n",
        "\n",
        "    for entry in data:\n",
        "        nodo1_id = entry[\"nodo1\"][\"id\"]\n",
        "        nodo2_id = entry[\"nodo2\"][\"id\"]\n",
        "\n",
        "        if (nodo1_id, nodo2_id) in edge_pairs:\n",
        "            subgraph_info.append(entry)\n",
        "\n",
        "    return subgraph_info\n",
        "\n",
        "def process_community_subgraphs(data, community_subgraphs):\n",
        "    processed_subgraphs = []\n",
        "\n",
        "    for community_id, subgraph in community_subgraphs:\n",
        "        subgraph_edges = list(subgraph.edges())\n",
        "        real_subgraph = extract_subgraph_info(data, subgraph_edges)\n",
        "        processed_subgraphs.append((community_id, real_subgraph))\n",
        "\n",
        "    return processed_subgraphs\n",
        "\n",
        "subgraph_infomap = process_community_subgraphs(data, community_subgraph_infomap)\n",
        "subgraph_louvain = process_community_subgraphs(data, community_subgraph_louvain)\n",
        "\n",
        "# IN subgraph_infomap HO LA LISTA DEGLI ID_COMMUNITY E IL GRAFO ASSOCIATO [(1.0,[{'nodo1': {'id': 2, 'labels': [{'categoria_id': 2, '\"entita_id\"': 52}]}, 'nodo2': {'id': 3, 'labels': [{'categoria_i\n",
        "\n",
        "def check_multiple_edges(subgraph_info):\n",
        "    \"\"\"\n",
        "    Verifica e conta i collegamenti multipli tra coppie di nodi.\n",
        "    \"\"\"\n",
        "    edge_count = {}\n",
        "    for entry in subgraph_info:\n",
        "        edge = (entry[\"nodo1\"][\"id\"], entry[\"nodo2\"][\"id\"])\n",
        "        edge_count[edge] = edge_count.get(edge, 0) + 1\n",
        "\n",
        "    return {edge: count for edge, count in edge_count.items() if count > 1}\n",
        "\n",
        "# verifica:\n",
        "for community_id, subgraph_info in subgraph_infomap[:3]:\n",
        "    multiple_edges = check_multiple_edges(subgraph_info)\n",
        "    print(f\"\\nCommunity {community_id}:\")\n",
        "    print(f\"Totale collegamenti: {len(subgraph_info)}\")\n",
        "    print(f\"Coppie di nodi con collegamenti multipli: {len(multiple_edges)}\")\n",
        "    if multiple_edges:\n",
        "        print(\"Esempi di collegamenti multipli:\")\n",
        "        for edge, count in list(multiple_edges.items())[:3]:\n",
        "            print(f\"Nodi {edge}: {count} collegamenti\")"
      ],
      "metadata": {
        "trusted": true,
        "execution": {
          "iopub.status.busy": "2025-02-18T11:42:41.055066Z",
          "iopub.execute_input": "2025-02-18T11:42:41.055351Z",
          "iopub.status.idle": "2025-02-18T11:42:41.272060Z",
          "shell.execute_reply.started": "2025-02-18T11:42:41.055320Z",
          "shell.execute_reply": "2025-02-18T11:42:41.271102Z"
        },
        "id": "1poygsUvhm7H",
        "outputId": "56191a26-4226-4c2e-9cd0-426563aed86e"
      },
      "outputs": [
        {
          "name": "stdout",
          "text": "\nCommunity 1.0:\nTotale collegamenti: 2230\nCoppie di nodi con collegamenti multipli: 567\nEsempi di collegamenti multipli:\nNodi (5, 340): 28 collegamenti\nNodi (5, 670): 14 collegamenti\nNodi (5, 32): 4 collegamenti\n\nCommunity 3.0:\nTotale collegamenti: 382\nCoppie di nodi con collegamenti multipli: 115\nEsempi di collegamenti multipli:\nNodi (17, 97): 2 collegamenti\nNodi (17, 189): 4 collegamenti\nNodi (19, 17): 4 collegamenti\n\nCommunity 6.0:\nTotale collegamenti: 240\nCoppie di nodi con collegamenti multipli: 90\nEsempi di collegamenti multipli:\nNodi (55, 208): 4 collegamenti\nNodi (55, 566): 2 collegamenti\nNodi (55, 1240): 2 collegamenti\n",
          "output_type": "stream"
        }
      ],
      "execution_count": null
    },
    {
      "cell_type": "code",
      "source": [
        "for _, community_id in selected_communities_infomap.iterrows():\n",
        "    subgraph = get_community_subgraph(G, infomap_communities, community_id[\"community\"])\n",
        "    community_subgraph_infomap.append((community_id[\"community\"], subgraph))\n",
        "    #Save the subgraph\n",
        "    nx.write_graphml(subgraph, f\"/kaggle/working/{int(community_id['community'])}_{community_id['criterion']}.graphml\")"
      ],
      "metadata": {
        "trusted": true,
        "execution": {
          "iopub.status.busy": "2025-02-18T11:42:41.273101Z",
          "iopub.execute_input": "2025-02-18T11:42:41.273436Z",
          "iopub.status.idle": "2025-02-18T11:42:41.385192Z",
          "shell.execute_reply.started": "2025-02-18T11:42:41.273404Z",
          "shell.execute_reply": "2025-02-18T11:42:41.384257Z"
        },
        "id": "SMDqAhtVhm7K"
      },
      "outputs": [],
      "execution_count": null
    },
    {
      "cell_type": "markdown",
      "source": [
        "### **2. Conversione Graph in Data per le GNN**"
      ],
      "metadata": {
        "id": "FDo0H4mAhm7L"
      }
    },
    {
      "cell_type": "code",
      "source": [
        "def prepare_data(graph_data):\n",
        "    edges = []\n",
        "    node_features = defaultdict(list)\n",
        "    all_nodes = set()\n",
        "\n",
        "    for row in graph_data:\n",
        "        n1 = row[\"nodo1\"][\"id\"]\n",
        "        n2 = row[\"nodo2\"][\"id\"]\n",
        "        edges.append((n1, n2))\n",
        "        all_nodes.update([n1, n2])\n",
        "\n",
        "        for nodo, node_id in [(\"nodo1\", n1), (\"nodo2\", n2)]:\n",
        "            for categoria in row[nodo].get(\"labels\", []):\n",
        "                categoria_id = categoria.get(\"categoria_id\")\n",
        "                entita_id = categoria.get(\"entita_id\")\n",
        "                if categoria_id is not None and entita_id is not None:\n",
        "                    node_features[node_id].append((categoria_id, entita_id))\n",
        "\n",
        "    category_to_idx = {}\n",
        "    entita_to_idx = {}\n",
        "\n",
        "    def get_or_assign_id(mapping, key):\n",
        "        if key not in mapping:\n",
        "            mapping[key] = len(mapping)\n",
        "        return mapping[key]\n",
        "\n",
        "    for pairs in node_features.values():\n",
        "        for categoria_id, entita_id in pairs:\n",
        "            get_or_assign_id(category_to_idx, categoria_id)\n",
        "            get_or_assign_id(entita_to_idx, entita_id)\n",
        "\n",
        "    node_to_idx = {node_id: idx for idx, node_id in enumerate(all_nodes)}\n",
        "    edges = [(node_to_idx[n1], node_to_idx[n2]) for n1, n2 in edges]\n",
        "\n",
        "    num_nodes = len(node_to_idx)\n",
        "    num_categories = len(category_to_idx)\n",
        "    num_entities = len(entita_to_idx)\n",
        "    num_features = num_categories + num_entities\n",
        "\n",
        "    if num_features == 0:\n",
        "        num_features = 1\n",
        "        x = torch.rand((num_nodes, num_features)) * 0.1\n",
        "    else:\n",
        "        x = torch.zeros((num_nodes, num_features))\n",
        "        for node_id, pairs in node_features.items():\n",
        "            if node_id in node_to_idx:\n",
        "                node_idx = node_to_idx[node_id]\n",
        "                for categoria_id, entita_id in pairs:\n",
        "                    cat_idx = category_to_idx[categoria_id]\n",
        "                    ent_idx = entita_to_idx[entita_id]\n",
        "                    x[node_idx, cat_idx] = 1\n",
        "                    x[node_idx, num_categories + ent_idx] = 1\n",
        "        x = F.normalize(x + 1e-8, p=2, dim=1)\n",
        "\n",
        "    G = nx.Graph()\n",
        "    G.add_edges_from(edges)\n",
        "\n",
        "    degree_dict = dict(G.degree())\n",
        "    degree_values = torch.tensor([degree_dict.get(node_id, 0) for node_id in node_to_idx], dtype=torch.float).view(-1, 1)\n",
        "\n",
        "    pagerank_dict = nx.pagerank(G)\n",
        "    pagerank_values = torch.tensor([pagerank_dict.get(node_id, 0) for node_id in node_to_idx], dtype=torch.float).view(-1, 1)\n",
        "\n",
        "    clustering_dict = nx.clustering(G)\n",
        "    clustering_values = torch.tensor([clustering_dict.get(node_id, 0) for node_id in node_to_idx], dtype=torch.float).view(-1, 1)\n",
        "\n",
        "    structural_features = torch.cat([degree_values, pagerank_values, clustering_values], dim=1)\n",
        "    structural_features = F.normalize(structural_features, p=2, dim=0)\n",
        "\n",
        "    x = torch.cat([x, structural_features], dim=1)\n",
        "\n",
        "    edge_index = torch.tensor(edges, dtype=torch.long).t().contiguous()\n",
        "    edge_index, _ = add_self_loops(edge_index, num_nodes=num_nodes)\n",
        "\n",
        "    return Data(x=x, edge_index=edge_index, node_to_idx=node_to_idx)\n",
        "\n",
        "def process_subgraphs(subgraph_infomap):\n",
        "    prepared_graphs = {}\n",
        "\n",
        "    for community_id, graph_data in subgraph_infomap:\n",
        "        prepared_graphs[community_id] = prepare_data(graph_data)\n",
        "\n",
        "    return prepared_graphs\n",
        "\n",
        "gnn_graphs_infomap = process_subgraphs(subgraph_infomap)\n",
        "gnn_graphs_louvain = process_subgraphs(subgraph_louvain)\n",
        "\n",
        "# ORA ABBIAMO x=[N, num_features + 3]\n",
        "# num_features è il numero di categorie ed entità,\n",
        "# 3 sono le nuove feature (Grado, PageRank, Clustering Coefficient).\n"
      ],
      "metadata": {
        "trusted": true,
        "execution": {
          "iopub.status.busy": "2025-02-18T11:42:41.395929Z",
          "iopub.execute_input": "2025-02-18T11:42:41.396197Z",
          "iopub.status.idle": "2025-02-18T11:42:41.537204Z",
          "shell.execute_reply.started": "2025-02-18T11:42:41.396166Z",
          "shell.execute_reply": "2025-02-18T11:42:41.536252Z"
        },
        "id": "snh6O7uZhm7L"
      },
      "outputs": [],
      "execution_count": null
    },
    {
      "cell_type": "markdown",
      "source": [
        "Salviamo i i grafi generati"
      ],
      "metadata": {
        "id": "T1_7SclVlAF-"
      }
    },
    {
      "cell_type": "code",
      "source": [
        "import torch\n",
        "\n",
        "torch.save(gnn_graphs_infomap, \"/kaggle/working/gnn_graphs_infomap.pt\")\n",
        "torch.save(gnn_graphs_louvain, \"/kaggle/working/gnn_graphs_louvain.pt\")"
      ],
      "metadata": {
        "trusted": true,
        "execution": {
          "iopub.status.busy": "2025-02-18T11:42:41.538534Z",
          "iopub.execute_input": "2025-02-18T11:42:41.538897Z",
          "iopub.status.idle": "2025-02-18T11:42:41.549437Z",
          "shell.execute_reply.started": "2025-02-18T11:42:41.538864Z",
          "shell.execute_reply": "2025-02-18T11:42:41.548643Z"
        },
        "id": "26iIqKSIhm7N"
      },
      "outputs": [],
      "execution_count": null
    },
    {
      "cell_type": "markdown",
      "source": [
        "# **Link Prediction con GNN**\n",
        "\n",
        "Vengono definiti tre modelli GNN:\n",
        "\n",
        "- **GCN** (Graph Convolutional Network)\n",
        "- **GAT** (Graph Attention Network)\n",
        "- **GraphSAGE** (Graph Sample and Aggregate)\n",
        "\n",
        "Viene implementato il task di link prediction, dove il modello deve prevedere se esiste un arco tra due nodi.\n",
        "\n",
        "Vengono utilizzate diverse strategie di negative sampling:\n",
        "\n",
        "- **Uniforme**: Campionamento casuale di nodi non connessi.\n",
        "- **Hard**: Campionamento di nodi vicini ma non connessi.\n",
        "- **Centralità**: Campionamento di nodi con alta centralità.\n",
        "- **Ibrida**: Combinazione delle strategie precedenti.\n",
        "\n"
      ],
      "metadata": {
        "id": "UxxQNfrJhm7P"
      }
    },
    {
      "cell_type": "markdown",
      "source": [
        "## **Negative Sampling**"
      ],
      "metadata": {
        "id": "1hcPT8MElo7h"
      }
    },
    {
      "cell_type": "code",
      "source": [
        "from torch_geometric.utils import negative_sampling\n",
        "\n",
        "def advanced_negative_sampling(data, num_neg_samples=None, strategy=\"hard\", strategy_weights=None):\n",
        "    \"\"\"\n",
        "    Genera esempi negativi per link prediction con 4 strategie:\n",
        "    1. Uniforme (casuale)\n",
        "    2. Hard Negative (campiona nodi difficili)\n",
        "    3. Basato su Centralità (sceglie nodi centrali)\n",
        "    4. Hybrid (combinazione pesata delle tre strategie)\n",
        "    \"\"\"\n",
        "    num_nodes = data.x.shape[0]\n",
        "    G = nx.Graph()\n",
        "    G.add_edges_from(data.edge_index.t().tolist())\n",
        "\n",
        "    if num_neg_samples is None:\n",
        "        num_neg_samples = data.edge_index.shape[1] // 2\n",
        "\n",
        "    neg_edges = []\n",
        "\n",
        "    if strategy == \"uniform\":\n",
        "        neg_edges = negative_sampling(data.edge_index, num_nodes=num_nodes, num_neg_samples=num_neg_samples)\n",
        "\n",
        "    elif strategy == \"hard\":\n",
        "        hard_neg_edges = []\n",
        "        nodes = list(G.nodes())\n",
        "\n",
        "        while len(hard_neg_edges) < num_neg_samples:\n",
        "            node = random.choice(nodes)\n",
        "            neighbors = set(G.neighbors(node))\n",
        "\n",
        "            if len(neighbors) < 2:\n",
        "                continue\n",
        "\n",
        "            for _ in range(5):\n",
        "                neg_node = random.choice(nodes)\n",
        "                if neg_node not in neighbors and neg_node != node:\n",
        "                    hard_neg_edges.append((node, neg_node))\n",
        "                    break\n",
        "\n",
        "        neg_edges = torch.tensor(hard_neg_edges, dtype=torch.long).t().contiguous()\n",
        "\n",
        "    elif strategy == \"centrality\":\n",
        "        pagerank = nx.pagerank(G)\n",
        "        sorted_nodes = sorted(pagerank.keys(), key=lambda x: pagerank[x], reverse=True)\n",
        "        neg_edges_list = []\n",
        "        nodes = list(G.nodes())\n",
        "\n",
        "        while len(neg_edges_list) < num_neg_samples:\n",
        "            high_centrality_node = random.choice(sorted_nodes[:len(sorted_nodes)//5])\n",
        "            random_node = random.choice(nodes)\n",
        "\n",
        "            if not G.has_edge(high_centrality_node, random_node):\n",
        "                neg_edges_list.append((high_centrality_node, random_node))\n",
        "\n",
        "        neg_edges = torch.tensor(neg_edges_list, dtype=torch.long).t().contiguous()\n",
        "\n",
        "    elif strategy == \"hybrid\":\n",
        "        if strategy_weights is None:\n",
        "            raise ValueError(\"Per la strategia 'hybrid', è necessario fornire 'strategy_weights'.\")\n",
        "\n",
        "        total_weight = sum(strategy_weights.values())\n",
        "        strategy_weights = {k: v / total_weight for k, v in strategy_weights.items()}\n",
        "\n",
        "        num_uniform = int(num_neg_samples * strategy_weights.get(\"uniform\", 0))\n",
        "        num_hard = int(num_neg_samples * strategy_weights.get(\"hard\", 0))\n",
        "        num_centrality = int(num_neg_samples * strategy_weights.get(\"centrality\", 0))\n",
        "\n",
        "        if num_uniform > 0:\n",
        "            uniform_neg_edges = negative_sampling(data.edge_index, num_nodes=num_nodes, num_neg_samples=num_uniform).t().tolist()\n",
        "            neg_edges.extend(uniform_neg_edges)\n",
        "\n",
        "        if num_hard > 0:\n",
        "            hard_neg_edges = []\n",
        "            nodes = list(G.nodes())\n",
        "\n",
        "            while len(hard_neg_edges) < num_hard:\n",
        "                node = random.choice(nodes)\n",
        "                neighbors = set(G.neighbors(node))\n",
        "\n",
        "                if len(neighbors) < 2:\n",
        "                    continue\n",
        "\n",
        "                for _ in range(5):\n",
        "                    neg_node = random.choice(nodes)\n",
        "                    if neg_node not in neighbors and neg_node != node:\n",
        "                        hard_neg_edges.append((node, neg_node))\n",
        "                        break\n",
        "\n",
        "            neg_edges.extend(hard_neg_edges)\n",
        "\n",
        "        if num_centrality > 0:\n",
        "            pagerank = nx.pagerank(G)\n",
        "            sorted_nodes = sorted(pagerank.keys(), key=lambda x: pagerank[x], reverse=True)\n",
        "            neg_edges_list = []\n",
        "            nodes = list(G.nodes())\n",
        "\n",
        "            while len(neg_edges_list) < num_centrality:\n",
        "                high_centrality_node = random.choice(sorted_nodes[:len(sorted_nodes)//5])\n",
        "                random_node = random.choice(nodes)\n",
        "\n",
        "                if not G.has_edge(high_centrality_node, random_node):\n",
        "                    neg_edges_list.append((high_centrality_node, random_node))\n",
        "\n",
        "            neg_edges.extend(neg_edges_list)\n",
        "\n",
        "        neg_edges = torch.tensor(neg_edges, dtype=torch.long).t().contiguous()\n",
        "\n",
        "    else:\n",
        "        raise ValueError(\"Strategia non valida. Scegli tra 'uniform', 'hard', 'centrality' o 'hybrid'.\")\n",
        "\n",
        "    return neg_edges\n"
      ],
      "metadata": {
        "trusted": true,
        "execution": {
          "iopub.status.busy": "2025-02-18T11:42:41.550351Z",
          "iopub.execute_input": "2025-02-18T11:42:41.550618Z",
          "iopub.status.idle": "2025-02-18T11:42:41.567961Z",
          "shell.execute_reply.started": "2025-02-18T11:42:41.550592Z",
          "shell.execute_reply": "2025-02-18T11:42:41.567087Z"
        },
        "id": "SNDcwAt5hm7S"
      },
      "outputs": [],
      "execution_count": null
    },
    {
      "cell_type": "code",
      "source": [
        "def create_train_test_edges(data, test_ratio=0.1, min_edges=2, neg_sampling_strategy=\"uniform\", strategy_weights=None):\n",
        "    \"\"\"\n",
        "    Divide gli archi in training e test set con strategia di sampling configurabile.\n",
        "    \"\"\"\n",
        "    device = data.edge_index.device\n",
        "    num_edges = data.edge_index.shape[1]\n",
        "    num_test = max(int(test_ratio * num_edges), min_edges)\n",
        "\n",
        "    perm = torch.randperm(num_edges, device=device)\n",
        "    test_edges = data.edge_index[:, perm[:num_test]]\n",
        "    train_edges = data.edge_index[:, perm[num_test:]]\n",
        "\n",
        "    neg_edges = advanced_negative_sampling(\n",
        "        data,\n",
        "        num_neg_samples=num_test,\n",
        "        strategy=neg_sampling_strategy,\n",
        "        strategy_weights=strategy_weights if neg_sampling_strategy == \"hybrid\" else None\n",
        "    )\n",
        "\n",
        "    neg_edges = neg_edges.to(device)\n",
        "\n",
        "    return train_edges.long(), test_edges.long(), neg_edges.long()"
      ],
      "metadata": {
        "trusted": true,
        "execution": {
          "iopub.status.busy": "2025-02-18T11:42:41.568832Z",
          "iopub.execute_input": "2025-02-18T11:42:41.569129Z",
          "iopub.status.idle": "2025-02-18T11:42:41.586437Z",
          "shell.execute_reply.started": "2025-02-18T11:42:41.569108Z",
          "shell.execute_reply": "2025-02-18T11:42:41.585575Z"
        },
        "id": "PEuYgwDWhm7U"
      },
      "outputs": [],
      "execution_count": null
    },
    {
      "cell_type": "markdown",
      "source": [
        "## **Definizione delle GNN**"
      ],
      "metadata": {
        "id": "rntWAtXuhm7X"
      }
    },
    {
      "cell_type": "code",
      "source": [
        "from torch_geometric.nn import GCNConv\n",
        "from torch_geometric.nn import GATConv\n",
        "from torch_geometric.nn import SAGEConv\n",
        "\n",
        "class GCN(torch.nn.Module):\n",
        "    def __init__(self, in_feats, hidden_feats):\n",
        "        super(GCN, self).__init__()\n",
        "        self.conv1 = GCNConv(in_feats, hidden_feats)\n",
        "        self.conv2 = GCNConv(hidden_feats, hidden_feats)\n",
        "\n",
        "    def forward(self, x, edge_index):\n",
        "        x = torch.relu(self.conv1(x, edge_index))\n",
        "        x = self.conv2(x, edge_index)\n",
        "        return x\n",
        "\n",
        "class GAT(torch.nn.Module):\n",
        "    def __init__(self, in_feats, hidden_feats, heads=2):\n",
        "        super(GAT, self).__init__()\n",
        "        self.conv1 = GATConv(in_feats, hidden_feats, heads=heads, concat=True)\n",
        "        self.conv2 = GATConv(hidden_feats * heads, hidden_feats, heads=1, concat=False)\n",
        "\n",
        "    def forward(self, x, edge_index):\n",
        "        x = torch.relu(self.conv1(x, edge_index))\n",
        "        x = self.conv2(x, edge_index)\n",
        "        return x\n",
        "\n",
        "class GraphSAGE(torch.nn.Module):\n",
        "    def __init__(self, in_feats, hidden_feats):\n",
        "        super(GraphSAGE, self).__init__()\n",
        "        self.conv1 = SAGEConv(in_feats, hidden_feats)\n",
        "        self.conv2 = SAGEConv(hidden_feats, hidden_feats)\n",
        "\n",
        "    def forward(self, x, edge_index):\n",
        "        x = torch.relu(self.conv1(x, edge_index))\n",
        "        x = self.conv2(x, edge_index)\n",
        "        return x"
      ],
      "metadata": {
        "trusted": true,
        "execution": {
          "iopub.status.busy": "2025-02-18T11:42:41.587304Z",
          "iopub.execute_input": "2025-02-18T11:42:41.587639Z",
          "iopub.status.idle": "2025-02-18T11:42:41.607172Z",
          "shell.execute_reply.started": "2025-02-18T11:42:41.587610Z",
          "shell.execute_reply": "2025-02-18T11:42:41.606204Z"
        },
        "id": "ZyWh4nNphm7Y"
      },
      "outputs": [],
      "execution_count": null
    },
    {
      "cell_type": "markdown",
      "source": [
        "## **Addestramento delle GNN per Link Prediction**\n",
        "\n",
        "I modelli vengono addestrati e valutati su diverse comunità, utilizzando le metriche AUC (Area Under Curve) e AP (Average Precision) per misurare le prestazioni."
      ],
      "metadata": {
        "id": "JAjhFIRrhm7Y"
      }
    },
    {
      "cell_type": "code",
      "source": [
        "def link_predictor(embeddings, edge_index):\n",
        "    \"\"\"Dot product tra coppie di nodi per predire il link.\"\"\"\n",
        "    src, dst = edge_index\n",
        "    src = src.long()\n",
        "    dst = dst.long()\n",
        "    return (embeddings[src] * embeddings[dst]).sum(dim=1)\n",
        "\n",
        "# directory per salvare i modelli finali\n",
        "os.makedirs(\"trained_models\", exist_ok=True)\n",
        "\n",
        "def train_link_prediction(graphs, models, epochs=100, lr=0.01, neg_sampling_strategy=\"hard\", strategy_weights=None, community_type=None):\n",
        "    device = torch.device(\"cuda\" if torch.cuda.is_available() else \"cpu\")\n",
        "    results = {}\n",
        "\n",
        "    for model_name, Model in models.items():\n",
        "        print(f\"\\nTraining {model_name} with negative sampling: {neg_sampling_strategy}\")\n",
        "\n",
        "        data_example = next(iter(graphs.values()))\n",
        "        model = Model(in_feats=data_example.x.shape[1], hidden_feats=32).to(device)\n",
        "        optimizer = torch.optim.Adam(model.parameters(), lr=lr, weight_decay=5e-4)\n",
        "\n",
        "        auc_scores = []\n",
        "        ap_scores = []\n",
        "\n",
        "        for epoch in range(epochs):\n",
        "            model.train()\n",
        "            optimizer.zero_grad()\n",
        "            total_loss = torch.tensor(0.0, device=device)  # Inizializziamo come tensor\n",
        "            num_graphs = 0\n",
        "\n",
        "            curr_weights = strategy_weights if neg_sampling_strategy == \"hybrid\" else None\n",
        "\n",
        "            for graph_id, data in graphs.items():\n",
        "                try:\n",
        "                    data = data.to(device)\n",
        "                    train_edges, test_edges, neg_edges = create_train_test_edges(\n",
        "                        data,\n",
        "                        neg_sampling_strategy=neg_sampling_strategy,\n",
        "                        strategy_weights=curr_weights\n",
        "                    )\n",
        "\n",
        "                    if test_edges.size(1) < 2 or neg_edges.size(1) < 2:\n",
        "                        print(f\"Skipping Graph {graph_id} - Test set too small\")\n",
        "                        continue\n",
        "\n",
        "                    embeddings = model(data.x, train_edges)\n",
        "                    pos_pred = link_predictor(embeddings, train_edges)\n",
        "                    neg_pred = link_predictor(embeddings, neg_edges)\n",
        "\n",
        "                    labels = torch.cat([torch.ones(pos_pred.size(0)), torch.zeros(neg_pred.size(0))]).to(device)\n",
        "                    pred = torch.cat([pos_pred, neg_pred])\n",
        "\n",
        "                    loss = F.binary_cross_entropy_with_logits(pred, labels)\n",
        "                    total_loss += loss\n",
        "                    num_graphs += 1\n",
        "\n",
        "                except Exception as e:\n",
        "                    print(f\"Errore nell'elaborazione di Graph {graph_id}: {str(e)}\")\n",
        "                    continue\n",
        "\n",
        "            if num_graphs > 0:\n",
        "                total_loss /= num_graphs\n",
        "                total_loss.backward()\n",
        "                optimizer.step()\n",
        "\n",
        "            if epoch % 10 == 0:\n",
        "                print(f\"Epoch {epoch}, Avg Loss: {total_loss.item()}\")\n",
        "\n",
        "        # Valutazione\n",
        "        model.eval()\n",
        "        for graph_id, data in graphs.items():\n",
        "            try:\n",
        "                data = data.to(device)\n",
        "                train_edges, test_edges, neg_edges = create_train_test_edges(\n",
        "                    data,\n",
        "                    neg_sampling_strategy=neg_sampling_strategy,\n",
        "                    strategy_weights=strategy_weights if neg_sampling_strategy == \"hybrid\" else None\n",
        "                )\n",
        "\n",
        "                with torch.no_grad():\n",
        "                    embeddings = model(data.x, train_edges)\n",
        "                    pos_test_pred = link_predictor(embeddings, test_edges)\n",
        "                    neg_test_pred = link_predictor(embeddings, neg_edges)\n",
        "\n",
        "                    test_labels = torch.cat([torch.ones(pos_test_pred.size(0)),\n",
        "                                             torch.zeros(neg_test_pred.size(0))]).cpu().numpy()\n",
        "                    test_pred = torch.cat([pos_test_pred, neg_test_pred]).cpu().numpy()\n",
        "\n",
        "                    if len(test_labels) < 2 or len(set(test_labels)) < 2:\n",
        "                        print(f\"Attenzione: Test set di Graph {graph_id} non valido per la valutazione\")\n",
        "                        continue\n",
        "\n",
        "                    auc = roc_auc_score(test_labels, test_pred)\n",
        "                    ap = average_precision_score(test_labels, test_pred)\n",
        "\n",
        "                    auc_scores.append(auc)\n",
        "                    ap_scores.append(ap)\n",
        "\n",
        "            except Exception as e:\n",
        "                print(f\"Errore nella valutazione di Graph {graph_id}: {str(e)}\")\n",
        "                continue\n",
        "\n",
        "        # Calcoliamo le metriche\n",
        "        avg_auc = np.nanmean(auc_scores) if auc_scores else np.nan\n",
        "        avg_ap = np.nanmean(ap_scores) if ap_scores else np.nan\n",
        "        print(f\"Final results - {model_name} | Strategy {neg_sampling_strategy} - AUC: {avg_auc:.4f}, AP: {avg_ap:.4f}\")\n",
        "\n",
        "        model_path = f\"trained_models/{model_name}_strategy_{neg_sampling_strategy}_{community_type}.pth\"\n",
        "        torch.save(model.state_dict(), model_path)\n",
        "\n",
        "        results[model_name] = {\n",
        "            \"AUC\": avg_auc,\n",
        "            \"AP\": avg_ap\n",
        "        }\n",
        "\n",
        "    return results"
      ],
      "metadata": {
        "trusted": true,
        "execution": {
          "iopub.status.busy": "2025-02-18T11:42:41.607991Z",
          "iopub.execute_input": "2025-02-18T11:42:41.608293Z",
          "iopub.status.idle": "2025-02-18T11:42:41.628761Z",
          "shell.execute_reply.started": "2025-02-18T11:42:41.608263Z",
          "shell.execute_reply": "2025-02-18T11:42:41.628079Z"
        },
        "id": "2jt_ExN_hm7a"
      },
      "outputs": [],
      "execution_count": null
    },
    {
      "cell_type": "markdown",
      "source": [
        "## **Salvataggio dei risultati**\n",
        "I risultati delle diverse strategie e modelli vengono salvati e visualizzati in una tabella.\n",
        "\n"
      ],
      "metadata": {
        "id": "Yg2AAl5JmDG4"
      }
    },
    {
      "cell_type": "code",
      "source": [
        "results_summary = []\n",
        "\n",
        "models = {\n",
        "    \"GCN\": GCN,\n",
        "    \"GAT\": GAT,\n",
        "    \"GraphSAGE\": GraphSAGE\n",
        "}\n",
        "\n",
        "weights = {\"uniform\": 0.3, \"hard\": 0.4, \"centrality\": 0.3}\n",
        "\n",
        "for strategy in [\"uniform\", \"hard\", \"centrality\", \"hybrid\"]:\n",
        "    print(f\"\\n====== Training for Strategy: {strategy} ======\")\n",
        "\n",
        "    # Add community_type parameter for Infomap\n",
        "    results_infomap = train_link_prediction(\n",
        "        gnn_graphs_infomap,\n",
        "        models,\n",
        "        neg_sampling_strategy=strategy,\n",
        "        strategy_weights=weights if strategy == \"hybrid\" else None,\n",
        "        community_type=\"infomap\"\n",
        "    )\n",
        "\n",
        "    # Add community_type parameter for Louvain\n",
        "    results_louvain = train_link_prediction(\n",
        "        gnn_graphs_louvain,\n",
        "        models,\n",
        "        neg_sampling_strategy=strategy,\n",
        "        strategy_weights=weights if strategy == \"hybrid\" else None,\n",
        "        community_type=\"louvain\"\n",
        "    )\n",
        "\n",
        "    for model in models.keys():\n",
        "            results_summary.append({\n",
        "                \"Strategy\": strategy,\n",
        "                \"Model\": model,\n",
        "                \"AUC (Infomap)\": results_infomap[model][\"AUC\"],\n",
        "                \"AP (Infomap)\": results_infomap[model][\"AP\"],\n",
        "                \"AUC (Louvain)\": results_louvain[model][\"AUC\"],\n",
        "                \"AP (Louvain)\": results_louvain[model][\"AP\"]\n",
        "            })\n",
        "results_df = pd.DataFrame(results_summary)"
      ],
      "metadata": {
        "trusted": true,
        "execution": {
          "iopub.status.busy": "2025-02-18T11:42:41.629599Z",
          "iopub.execute_input": "2025-02-18T11:42:41.629921Z",
          "iopub.status.idle": "2025-02-18T11:45:04.145226Z",
          "shell.execute_reply.started": "2025-02-18T11:42:41.629893Z",
          "shell.execute_reply": "2025-02-18T11:45:04.144416Z"
        },
        "id": "a3R1Re53hm7b",
        "outputId": "7d5aef32-775c-433a-99bd-26c556627bd5"
      },
      "outputs": [
        {
          "name": "stdout",
          "text": "\n====== Training for Strategy: uniform ======\n\nTraining GCN with negative sampling: uniform\nEpoch 0, Avg Loss: 0.6763001680374146\nEpoch 10, Avg Loss: 0.343402236700058\nEpoch 20, Avg Loss: 0.27392566204071045\nEpoch 30, Avg Loss: 0.24475303292274475\nEpoch 40, Avg Loss: 0.272144079208374\nEpoch 50, Avg Loss: 0.2511940896511078\nEpoch 60, Avg Loss: 0.25781551003456116\nEpoch 70, Avg Loss: 0.24915817379951477\nEpoch 80, Avg Loss: 0.2502090632915497\nEpoch 90, Avg Loss: 0.25756195187568665\nFinal results - GCN | Strategy uniform - AUC: 0.8299, AP: 0.8681\n\nTraining GAT with negative sampling: uniform\nEpoch 0, Avg Loss: 0.6913192272186279\nEpoch 10, Avg Loss: 0.39373549818992615\nEpoch 20, Avg Loss: 0.3292187750339508\nEpoch 30, Avg Loss: 0.32082661986351013\nEpoch 40, Avg Loss: 0.32144269347190857\nEpoch 50, Avg Loss: 0.3195691704750061\nEpoch 60, Avg Loss: 0.319161057472229\nEpoch 70, Avg Loss: 0.3195987939834595\nEpoch 80, Avg Loss: 0.31944945454597473\nEpoch 90, Avg Loss: 0.31933513283729553\nFinal results - GAT | Strategy uniform - AUC: 0.5718, AP: 0.5925\n\nTraining GraphSAGE with negative sampling: uniform\nEpoch 0, Avg Loss: 0.32227200269699097\nEpoch 10, Avg Loss: 0.3127964437007904\nEpoch 20, Avg Loss: 0.3019305169582367\nEpoch 30, Avg Loss: 0.30223408341407776\nEpoch 40, Avg Loss: 0.29610225558280945\nEpoch 50, Avg Loss: 0.3014303147792816\nEpoch 60, Avg Loss: 0.2937902808189392\nEpoch 70, Avg Loss: 0.28795114159584045\nEpoch 80, Avg Loss: 0.29041752219200134\nEpoch 90, Avg Loss: 0.29104185104370117\nFinal results - GraphSAGE | Strategy uniform - AUC: 0.6561, AP: 0.7229\n\nTraining GCN with negative sampling: uniform\nEpoch 0, Avg Loss: 0.6758936047554016\nEpoch 10, Avg Loss: 0.34025511145591736\nEpoch 20, Avg Loss: 0.29146608710289\nEpoch 30, Avg Loss: 0.27299177646636963\nEpoch 40, Avg Loss: 0.2747095227241516\nEpoch 50, Avg Loss: 0.26617810130119324\nEpoch 60, Avg Loss: 0.2660757303237915\nEpoch 70, Avg Loss: 0.2670159339904785\nEpoch 80, Avg Loss: 0.26440325379371643\nEpoch 90, Avg Loss: 0.2644451856613159\nFinal results - GCN | Strategy uniform - AUC: 0.7817, AP: 0.8277\n\nTraining GAT with negative sampling: uniform\nEpoch 0, Avg Loss: 0.6887010931968689\nEpoch 10, Avg Loss: 0.3739314675331116\nEpoch 20, Avg Loss: 0.32397571206092834\nEpoch 30, Avg Loss: 0.3280373215675354\nEpoch 40, Avg Loss: 0.3253730237483978\nEpoch 50, Avg Loss: 0.3232223093509674\nEpoch 60, Avg Loss: 0.3227091431617737\nEpoch 70, Avg Loss: 0.32298222184181213\nEpoch 80, Avg Loss: 0.3221457600593567\nEpoch 90, Avg Loss: 0.3222404718399048\nFinal results - GAT | Strategy uniform - AUC: 0.5222, AP: 0.5424\n\nTraining GraphSAGE with negative sampling: uniform\nEpoch 0, Avg Loss: 0.3133077621459961\nEpoch 10, Avg Loss: 0.3034861385822296\nEpoch 20, Avg Loss: 0.2924067974090576\nEpoch 30, Avg Loss: 0.2958025336265564\nEpoch 40, Avg Loss: 0.28728964924812317\nEpoch 50, Avg Loss: 0.2880745828151703\nEpoch 60, Avg Loss: 0.28003233671188354\nEpoch 70, Avg Loss: 0.2865418493747711\nEpoch 80, Avg Loss: 0.27860620617866516\nEpoch 90, Avg Loss: 0.27561327815055847\nFinal results - GraphSAGE | Strategy uniform - AUC: 0.7025, AP: 0.7505\n\n====== Training for Strategy: hard ======\n\nTraining GCN with negative sampling: hard\nEpoch 0, Avg Loss: 0.6691750884056091\nEpoch 10, Avg Loss: 0.3153499662876129\nEpoch 20, Avg Loss: 0.2625926434993744\nEpoch 30, Avg Loss: 0.26217928528785706\nEpoch 40, Avg Loss: 0.2536287009716034\nEpoch 50, Avg Loss: 0.2615441679954529\nEpoch 60, Avg Loss: 0.2606843411922455\nEpoch 70, Avg Loss: 0.26346665620803833\nEpoch 80, Avg Loss: 0.24418485164642334\nEpoch 90, Avg Loss: 0.25176048278808594\nFinal results - GCN | Strategy hard - AUC: 0.8519, AP: 0.8849\n\nTraining GAT with negative sampling: hard\nEpoch 0, Avg Loss: 0.6915538907051086\nEpoch 10, Avg Loss: 0.40048059821128845\nEpoch 20, Avg Loss: 0.33291754126548767\nEpoch 30, Avg Loss: 0.320218950510025\nEpoch 40, Avg Loss: 0.3223232626914978\nEpoch 50, Avg Loss: 0.32011398673057556\nEpoch 60, Avg Loss: 0.31948038935661316\nEpoch 70, Avg Loss: 0.3202377259731293\nEpoch 80, Avg Loss: 0.3198866844177246\nEpoch 90, Avg Loss: 0.3196874260902405\nFinal results - GAT | Strategy hard - AUC: 0.4974, AP: 0.5246\n\nTraining GraphSAGE with negative sampling: hard\nEpoch 0, Avg Loss: 0.4363165497779846\nEpoch 10, Avg Loss: 0.3197290897369385\nEpoch 20, Avg Loss: 0.3117365539073944\nEpoch 30, Avg Loss: 0.3076901137828827\nEpoch 40, Avg Loss: 0.30873537063598633\nEpoch 50, Avg Loss: 0.295949786901474\nEpoch 60, Avg Loss: 0.2923920750617981\nEpoch 70, Avg Loss: 0.28968366980552673\nEpoch 80, Avg Loss: 0.29009681940078735\nEpoch 90, Avg Loss: 0.28852006793022156\nFinal results - GraphSAGE | Strategy hard - AUC: 0.6620, AP: 0.7337\n\nTraining GCN with negative sampling: hard\nEpoch 0, Avg Loss: 0.6751717925071716\nEpoch 10, Avg Loss: 0.3427251875400543\nEpoch 20, Avg Loss: 0.28952232003211975\nEpoch 30, Avg Loss: 0.27629539370536804\nEpoch 40, Avg Loss: 0.2705933153629303\nEpoch 50, Avg Loss: 0.265533983707428\nEpoch 60, Avg Loss: 0.2681211531162262\nEpoch 70, Avg Loss: 0.2633862793445587\nEpoch 80, Avg Loss: 0.2666570246219635\nEpoch 90, Avg Loss: 0.2648688554763794\nFinal results - GCN | Strategy hard - AUC: 0.8005, AP: 0.8418\n\nTraining GAT with negative sampling: hard\nEpoch 0, Avg Loss: 0.6896225810050964\nEpoch 10, Avg Loss: 0.3752180337905884\nEpoch 20, Avg Loss: 0.3249591290950775\nEpoch 30, Avg Loss: 0.32795727252960205\nEpoch 40, Avg Loss: 0.3237225115299225\nEpoch 50, Avg Loss: 0.32388293743133545\nEpoch 60, Avg Loss: 0.32343679666519165\nEpoch 70, Avg Loss: 0.3235090374946594\nEpoch 80, Avg Loss: 0.3232945501804352\nEpoch 90, Avg Loss: 0.32388508319854736\nFinal results - GAT | Strategy hard - AUC: 0.5175, AP: 0.5443\n\nTraining GraphSAGE with negative sampling: hard\nEpoch 0, Avg Loss: 0.4360816180706024\nEpoch 10, Avg Loss: 0.3112601637840271\nEpoch 20, Avg Loss: 0.2994533181190491\nEpoch 30, Avg Loss: 0.2972590923309326\nEpoch 40, Avg Loss: 0.28819459676742554\nEpoch 50, Avg Loss: 0.28282609581947327\nEpoch 60, Avg Loss: 0.2833973467350006\nEpoch 70, Avg Loss: 0.2836382985115051\nEpoch 80, Avg Loss: 0.2838718891143799\nEpoch 90, Avg Loss: 0.2766094207763672\nFinal results - GraphSAGE | Strategy hard - AUC: 0.7170, AP: 0.7706\n\n====== Training for Strategy: centrality ======\n\nTraining GCN with negative sampling: centrality\nEpoch 0, Avg Loss: 0.6776846647262573\nEpoch 10, Avg Loss: 0.3504848778247833\nEpoch 20, Avg Loss: 0.30341753363609314\nEpoch 30, Avg Loss: 0.29850083589553833\nEpoch 40, Avg Loss: 0.28131362795829773\nEpoch 50, Avg Loss: 0.27681681513786316\nEpoch 60, Avg Loss: 0.2813917100429535\nEpoch 70, Avg Loss: 0.2799850404262543\nEpoch 80, Avg Loss: 0.2836092710494995\nEpoch 90, Avg Loss: 0.28125\nFinal results - GCN | Strategy centrality - AUC: 0.7866, AP: 0.8287\n\nTraining GAT with negative sampling: centrality\nEpoch 0, Avg Loss: 0.691013514995575\nEpoch 10, Avg Loss: 0.39842286705970764\nEpoch 20, Avg Loss: 0.3227235972881317\nEpoch 30, Avg Loss: 0.3268224596977234\nEpoch 40, Avg Loss: 0.32321685552597046\nEpoch 50, Avg Loss: 0.32089683413505554\nEpoch 60, Avg Loss: 0.3208361566066742\nEpoch 70, Avg Loss: 0.32080909609794617\nEpoch 80, Avg Loss: 0.32032081484794617\nEpoch 90, Avg Loss: 0.3207336366176605\nFinal results - GAT | Strategy centrality - AUC: 0.4976, AP: 0.5571\n\nTraining GraphSAGE with negative sampling: centrality\nEpoch 0, Avg Loss: 0.37288644909858704\nEpoch 10, Avg Loss: 0.31458792090415955\nEpoch 20, Avg Loss: 0.3173212707042694\nEpoch 30, Avg Loss: 0.30889829993247986\nEpoch 40, Avg Loss: 0.3079819679260254\nEpoch 50, Avg Loss: 0.3050808608531952\nEpoch 60, Avg Loss: 0.30119332671165466\nEpoch 70, Avg Loss: 0.2938426434993744\nEpoch 80, Avg Loss: 0.30215123295783997\nEpoch 90, Avg Loss: 0.2974050045013428\nFinal results - GraphSAGE | Strategy centrality - AUC: 0.6024, AP: 0.6631\n\nTraining GCN with negative sampling: centrality\nEpoch 0, Avg Loss: 0.6667924523353577\nEpoch 10, Avg Loss: 0.3651362955570221\nEpoch 20, Avg Loss: 0.3194892108440399\nEpoch 30, Avg Loss: 0.30839014053344727\nEpoch 40, Avg Loss: 0.3036205470561981\nEpoch 50, Avg Loss: 0.29583850502967834\nEpoch 60, Avg Loss: 0.2920245826244354\nEpoch 70, Avg Loss: 0.2910040616989136\nEpoch 80, Avg Loss: 0.2938949167728424\nEpoch 90, Avg Loss: 0.2983304560184479\nFinal results - GCN | Strategy centrality - AUC: 0.6918, AP: 0.7633\n\nTraining GAT with negative sampling: centrality\nEpoch 0, Avg Loss: 0.690207839012146\nEpoch 10, Avg Loss: 0.3937997817993164\nEpoch 20, Avg Loss: 0.32344311475753784\nEpoch 30, Avg Loss: 0.32752132415771484\nEpoch 40, Avg Loss: 0.3247354030609131\nEpoch 50, Avg Loss: 0.3228282034397125\nEpoch 60, Avg Loss: 0.3234528601169586\nEpoch 70, Avg Loss: 0.3222881555557251\nEpoch 80, Avg Loss: 0.32276079058647156\nEpoch 90, Avg Loss: 0.32301464676856995\nFinal results - GAT | Strategy centrality - AUC: 0.5203, AP: 0.5382\n\nTraining GraphSAGE with negative sampling: centrality\nEpoch 0, Avg Loss: 0.42586177587509155\nEpoch 10, Avg Loss: 0.3087189197540283\nEpoch 20, Avg Loss: 0.3068208694458008\nEpoch 30, Avg Loss: 0.3042224943637848\nEpoch 40, Avg Loss: 0.3065672516822815\nEpoch 50, Avg Loss: 0.29396700859069824\nEpoch 60, Avg Loss: 0.2938691973686218\nEpoch 70, Avg Loss: 0.2866392433643341\nEpoch 80, Avg Loss: 0.29553768038749695\nEpoch 90, Avg Loss: 0.29297971725463867\nFinal results - GraphSAGE | Strategy centrality - AUC: 0.6426, AP: 0.6928\n\n====== Training for Strategy: hybrid ======\n\nTraining GCN with negative sampling: hybrid\nEpoch 0, Avg Loss: 0.6777975559234619\nEpoch 10, Avg Loss: 0.33294832706451416\nEpoch 20, Avg Loss: 0.2720804810523987\nEpoch 30, Avg Loss: 0.25277432799339294\nEpoch 40, Avg Loss: 0.257320374250412\nEpoch 50, Avg Loss: 0.25208160281181335\nEpoch 60, Avg Loss: 0.25369539856910706\nEpoch 70, Avg Loss: 0.2438649982213974\nEpoch 80, Avg Loss: 0.24792475998401642\nEpoch 90, Avg Loss: 0.24984823167324066\nFinal results - GCN | Strategy hybrid - AUC: 0.7728, AP: 0.8485\n\nTraining GAT with negative sampling: hybrid\nEpoch 0, Avg Loss: 0.6913561224937439\nEpoch 10, Avg Loss: 0.36666637659072876\nEpoch 20, Avg Loss: 0.31058287620544434\nEpoch 30, Avg Loss: 0.3098258674144745\nEpoch 40, Avg Loss: 0.309114933013916\nEpoch 50, Avg Loss: 0.3073292076587677\nEpoch 60, Avg Loss: 0.30618980526924133\nEpoch 70, Avg Loss: 0.30599331855773926\nEpoch 80, Avg Loss: 0.30550289154052734\nEpoch 90, Avg Loss: 0.30685997009277344\nFinal results - GAT | Strategy hybrid - AUC: 0.4837, AP: 0.5629\n\nTraining GraphSAGE with negative sampling: hybrid\nEpoch 0, Avg Loss: 0.3719513416290283\nEpoch 10, Avg Loss: 0.2969869375228882\nEpoch 20, Avg Loss: 0.2933172881603241\nEpoch 30, Avg Loss: 0.2992851436138153\nEpoch 40, Avg Loss: 0.290212482213974\nEpoch 50, Avg Loss: 0.28240668773651123\nEpoch 60, Avg Loss: 0.2936263680458069\nEpoch 70, Avg Loss: 0.28118881583213806\nEpoch 80, Avg Loss: 0.28725722432136536\nEpoch 90, Avg Loss: 0.2863536775112152\nFinal results - GraphSAGE | Strategy hybrid - AUC: 0.6022, AP: 0.6984\n\nTraining GCN with negative sampling: hybrid\nEpoch 0, Avg Loss: 0.6671570539474487\nEpoch 10, Avg Loss: 0.3552548587322235\nEpoch 20, Avg Loss: 0.29818084836006165\nEpoch 30, Avg Loss: 0.2855108082294464\nEpoch 40, Avg Loss: 0.2814178764820099\nEpoch 50, Avg Loss: 0.2765766382217407\nEpoch 60, Avg Loss: 0.2801314890384674\nEpoch 70, Avg Loss: 0.27348005771636963\nEpoch 80, Avg Loss: 0.27564921975135803\nEpoch 90, Avg Loss: 0.2744511663913727\nFinal results - GCN | Strategy hybrid - AUC: 0.7330, AP: 0.7810\n\nTraining GAT with negative sampling: hybrid\nEpoch 0, Avg Loss: 0.6877801418304443\nEpoch 10, Avg Loss: 0.37753620743751526\nEpoch 20, Avg Loss: 0.32228416204452515\nEpoch 30, Avg Loss: 0.3248245418071747\nEpoch 40, Avg Loss: 0.3234306871891022\nEpoch 50, Avg Loss: 0.32028117775917053\nEpoch 60, Avg Loss: 0.3205224871635437\nEpoch 70, Avg Loss: 0.31945717334747314\nEpoch 80, Avg Loss: 0.31974199414253235\nEpoch 90, Avg Loss: 0.31951287388801575\nFinal results - GAT | Strategy hybrid - AUC: 0.5433, AP: 0.5582\n\nTraining GraphSAGE with negative sampling: hybrid\nEpoch 0, Avg Loss: 0.375692218542099\nEpoch 10, Avg Loss: 0.30227407813072205\nEpoch 20, Avg Loss: 0.28965285420417786\nEpoch 30, Avg Loss: 0.29264649748802185\nEpoch 40, Avg Loss: 0.2954230308532715\nEpoch 50, Avg Loss: 0.2862308621406555\nEpoch 60, Avg Loss: 0.28013312816619873\nEpoch 70, Avg Loss: 0.2769351601600647\nEpoch 80, Avg Loss: 0.27891841530799866\nEpoch 90, Avg Loss: 0.2810988426208496\nFinal results - GraphSAGE | Strategy hybrid - AUC: 0.6672, AP: 0.7133\n",
          "output_type": "stream"
        }
      ],
      "execution_count": null
    },
    {
      "cell_type": "code",
      "source": [
        "from IPython.display import display\n",
        "display(results_df)"
      ],
      "metadata": {
        "trusted": true,
        "execution": {
          "iopub.status.busy": "2025-02-18T11:45:04.146027Z",
          "iopub.execute_input": "2025-02-18T11:45:04.146273Z",
          "iopub.status.idle": "2025-02-18T11:45:04.156585Z",
          "shell.execute_reply.started": "2025-02-18T11:45:04.146249Z",
          "shell.execute_reply": "2025-02-18T11:45:04.155811Z"
        },
        "id": "y59nJsWzhm7b",
        "outputId": "0ae7a43a-7d3f-41c8-c412-cbd2d9268f93"
      },
      "outputs": [
        {
          "output_type": "display_data",
          "data": {
            "text/plain": "      Strategy      Model  AUC (Infomap)  AP (Infomap)  AUC (Louvain)  \\\n0      uniform        GCN       0.829931      0.868115       0.781706   \n1      uniform        GAT       0.571808      0.592459       0.522153   \n2      uniform  GraphSAGE       0.656063      0.722856       0.702457   \n3         hard        GCN       0.851896      0.884866       0.800488   \n4         hard        GAT       0.497449      0.524565       0.517514   \n5         hard  GraphSAGE       0.662000      0.733666       0.717043   \n6   centrality        GCN       0.786554      0.828669       0.691834   \n7   centrality        GAT       0.497558      0.557130       0.520303   \n8   centrality  GraphSAGE       0.602434      0.663054       0.642618   \n9       hybrid        GCN       0.772823      0.848463       0.733016   \n10      hybrid        GAT       0.483729      0.562903       0.543258   \n11      hybrid  GraphSAGE       0.602238      0.698447       0.667190   \n\n    AP (Louvain)  \n0       0.827711  \n1       0.542354  \n2       0.750510  \n3       0.841821  \n4       0.544273  \n5       0.770561  \n6       0.763269  \n7       0.538181  \n8       0.692835  \n9       0.780996  \n10      0.558181  \n11      0.713305  ",
            "text/html": "<div>\n<style scoped>\n    .dataframe tbody tr th:only-of-type {\n        vertical-align: middle;\n    }\n\n    .dataframe tbody tr th {\n        vertical-align: top;\n    }\n\n    .dataframe thead th {\n        text-align: right;\n    }\n</style>\n<table border=\"1\" class=\"dataframe\">\n  <thead>\n    <tr style=\"text-align: right;\">\n      <th></th>\n      <th>Strategy</th>\n      <th>Model</th>\n      <th>AUC (Infomap)</th>\n      <th>AP (Infomap)</th>\n      <th>AUC (Louvain)</th>\n      <th>AP (Louvain)</th>\n    </tr>\n  </thead>\n  <tbody>\n    <tr>\n      <th>0</th>\n      <td>uniform</td>\n      <td>GCN</td>\n      <td>0.829931</td>\n      <td>0.868115</td>\n      <td>0.781706</td>\n      <td>0.827711</td>\n    </tr>\n    <tr>\n      <th>1</th>\n      <td>uniform</td>\n      <td>GAT</td>\n      <td>0.571808</td>\n      <td>0.592459</td>\n      <td>0.522153</td>\n      <td>0.542354</td>\n    </tr>\n    <tr>\n      <th>2</th>\n      <td>uniform</td>\n      <td>GraphSAGE</td>\n      <td>0.656063</td>\n      <td>0.722856</td>\n      <td>0.702457</td>\n      <td>0.750510</td>\n    </tr>\n    <tr>\n      <th>3</th>\n      <td>hard</td>\n      <td>GCN</td>\n      <td>0.851896</td>\n      <td>0.884866</td>\n      <td>0.800488</td>\n      <td>0.841821</td>\n    </tr>\n    <tr>\n      <th>4</th>\n      <td>hard</td>\n      <td>GAT</td>\n      <td>0.497449</td>\n      <td>0.524565</td>\n      <td>0.517514</td>\n      <td>0.544273</td>\n    </tr>\n    <tr>\n      <th>5</th>\n      <td>hard</td>\n      <td>GraphSAGE</td>\n      <td>0.662000</td>\n      <td>0.733666</td>\n      <td>0.717043</td>\n      <td>0.770561</td>\n    </tr>\n    <tr>\n      <th>6</th>\n      <td>centrality</td>\n      <td>GCN</td>\n      <td>0.786554</td>\n      <td>0.828669</td>\n      <td>0.691834</td>\n      <td>0.763269</td>\n    </tr>\n    <tr>\n      <th>7</th>\n      <td>centrality</td>\n      <td>GAT</td>\n      <td>0.497558</td>\n      <td>0.557130</td>\n      <td>0.520303</td>\n      <td>0.538181</td>\n    </tr>\n    <tr>\n      <th>8</th>\n      <td>centrality</td>\n      <td>GraphSAGE</td>\n      <td>0.602434</td>\n      <td>0.663054</td>\n      <td>0.642618</td>\n      <td>0.692835</td>\n    </tr>\n    <tr>\n      <th>9</th>\n      <td>hybrid</td>\n      <td>GCN</td>\n      <td>0.772823</td>\n      <td>0.848463</td>\n      <td>0.733016</td>\n      <td>0.780996</td>\n    </tr>\n    <tr>\n      <th>10</th>\n      <td>hybrid</td>\n      <td>GAT</td>\n      <td>0.483729</td>\n      <td>0.562903</td>\n      <td>0.543258</td>\n      <td>0.558181</td>\n    </tr>\n    <tr>\n      <th>11</th>\n      <td>hybrid</td>\n      <td>GraphSAGE</td>\n      <td>0.602238</td>\n      <td>0.698447</td>\n      <td>0.667190</td>\n      <td>0.713305</td>\n    </tr>\n  </tbody>\n</table>\n</div>"
          },
          "metadata": {}
        }
      ],
      "execution_count": null
    }
  ]
}